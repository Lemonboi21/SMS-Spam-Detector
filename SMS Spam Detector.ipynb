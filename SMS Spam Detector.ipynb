{
 "cells": [
  {
   "cell_type": "code",
   "execution_count": 602,
   "metadata": {},
   "outputs": [
    {
     "name": "stdout",
     "output_type": "stream",
     "text": [
      "PH Spam + Marketing SMS (w timestamps)\n",
      "Philippine Spam Scam SMS\n",
      "SMS Spam Collection Dataset\n",
      "SMS SPAM DATASET (10286 rows)\n",
      "Spam Dataset\n"
     ]
    }
   ],
   "source": [
    "# open the csv files inside every folder in the datasets folder\n",
    "\n",
    "import os\n",
    "import pandas as pd\n",
    "\n",
    "for file in os.listdir('datasets'):\n",
    "    print(file)"
   ]
  },
  {
   "cell_type": "code",
   "execution_count": 603,
   "metadata": {},
   "outputs": [],
   "source": [
    "df1 = pd.read_csv('datasets/PH Spam + Marketing SMS (w timestamps)/text-messages.csv')\n",
    "df2 = pd.read_csv('datasets/Philippine Spam Scam SMS/SPAM_SMS.csv')\n",
    "df3 = pd.read_csv('datasets/SMS Spam Collection Dataset/spam.csv', encoding = \"ISO-8859-1\")\n",
    "df4 = pd.read_csv('datasets/SMS SPAM DATASET (10286 rows)/combined_dataset.csv')\n",
    "df5 = pd.read_csv('datasets/Spam Dataset/spam.csv')"
   ]
  },
  {
   "cell_type": "code",
   "execution_count": 604,
   "metadata": {},
   "outputs": [
    {
     "name": "stdout",
     "output_type": "stream",
     "text": [
      "dataset 1:\n",
      "Index(['date-received', 'date-read', 'sender', 'category', 'text'], dtype='object')\n",
      "-----------------------------------------\n",
      "dataset 2:\n",
      "Index(['masked_celphone_number', 'hashed_celphone_number', 'date', 'text',\n",
      "       'carrier'],\n",
      "      dtype='object')\n",
      "-----------------------------------------\n",
      "dataset 3:\n",
      "Index(['v1', 'v2', 'Unnamed: 2', 'Unnamed: 3', 'Unnamed: 4'], dtype='object')\n",
      "-----------------------------------------\n",
      "dataset 4:\n",
      "Index(['target', 'text'], dtype='object')\n",
      "-----------------------------------------\n",
      "dataset 5:\n",
      "Index(['v1', 'v2'], dtype='object')\n"
     ]
    }
   ],
   "source": [
    "# show the columns of the datasets\n",
    "print(\"dataset 1:\")\n",
    "print(df1.columns)\n",
    "print(\"-----------------------------------------\")\n",
    "print(\"dataset 2:\")\n",
    "print(df2.columns)\n",
    "print(\"-----------------------------------------\")\n",
    "print(\"dataset 3:\")\n",
    "print(df3.columns)\n",
    "print(\"-----------------------------------------\")\n",
    "print(\"dataset 4:\")\n",
    "print(df4.columns)\n",
    "print(\"-----------------------------------------\")\n",
    "print(\"dataset 5:\")\n",
    "print(df5.columns)"
   ]
  },
  {
   "cell_type": "code",
   "execution_count": 605,
   "metadata": {},
   "outputs": [
    {
     "name": "stdout",
     "output_type": "stream",
     "text": [
      "dataset 1:  (4177, 5)\n",
      "dataset 2:  (846, 5)\n",
      "dataset 3:  (5572, 5)\n",
      "dataset 4:  (10961, 2)\n",
      "dataset 5:  (1000, 2)\n"
     ]
    }
   ],
   "source": [
    "# print the shape of the datasets\n",
    "print(\"dataset 1: \", df1.shape)\n",
    "print(\"dataset 2: \", df2.shape)\n",
    "print(\"dataset 3: \", df3.shape)\n",
    "print(\"dataset 4: \", df4.shape)\n",
    "print(\"dataset 5: \", df5.shape)\n"
   ]
  },
  {
   "cell_type": "code",
   "execution_count": 606,
   "metadata": {},
   "outputs": [
    {
     "data": {
      "text/html": [
       "<div>\n",
       "<style scoped>\n",
       "    .dataframe tbody tr th:only-of-type {\n",
       "        vertical-align: middle;\n",
       "    }\n",
       "\n",
       "    .dataframe tbody tr th {\n",
       "        vertical-align: top;\n",
       "    }\n",
       "\n",
       "    .dataframe thead th {\n",
       "        text-align: right;\n",
       "    }\n",
       "</style>\n",
       "<table border=\"1\" class=\"dataframe\">\n",
       "  <thead>\n",
       "    <tr style=\"text-align: right;\">\n",
       "      <th></th>\n",
       "      <th>date-received</th>\n",
       "      <th>date-read</th>\n",
       "      <th>sender</th>\n",
       "      <th>category</th>\n",
       "      <th>text</th>\n",
       "    </tr>\n",
       "  </thead>\n",
       "  <tbody>\n",
       "    <tr>\n",
       "      <th>0</th>\n",
       "      <td>2024-02-05 18:11:17</td>\n",
       "      <td>2024-02-05 18:11:24</td>\n",
       "      <td>+6390998***20</td>\n",
       "      <td>spam</td>\n",
       "      <td>Make money while watching YouTube, earn 500P p...</td>\n",
       "    </tr>\n",
       "    <tr>\n",
       "      <th>1</th>\n",
       "      <td>2023-03-28 16:28:37</td>\n",
       "      <td>2023-03-28 16:28:48</td>\n",
       "      <td>GCash</td>\n",
       "      <td>ads</td>\n",
       "      <td>Get up to P125K extra funds for emergencies wi...</td>\n",
       "    </tr>\n",
       "    <tr>\n",
       "      <th>2</th>\n",
       "      <td>2023-03-29 16:45:31</td>\n",
       "      <td>2023-03-29 16:45:38</td>\n",
       "      <td>GCash</td>\n",
       "      <td>notifs</td>\n",
       "      <td>&lt;REDACTED&gt;</td>\n",
       "    </tr>\n",
       "    <tr>\n",
       "      <th>3</th>\n",
       "      <td>2023-03-29 17:17:32</td>\n",
       "      <td>2023-03-29 17:17:43</td>\n",
       "      <td>GCash</td>\n",
       "      <td>notifs</td>\n",
       "      <td>&lt;REDACTED&gt;</td>\n",
       "    </tr>\n",
       "    <tr>\n",
       "      <th>4</th>\n",
       "      <td>2023-03-30 10:16:02</td>\n",
       "      <td>2023-03-30 10:16:03</td>\n",
       "      <td>GCash</td>\n",
       "      <td>OTP</td>\n",
       "      <td>&lt;REDACTED&gt;</td>\n",
       "    </tr>\n",
       "  </tbody>\n",
       "</table>\n",
       "</div>"
      ],
      "text/plain": [
       "         date-received            date-read         sender category  \\\n",
       "0  2024-02-05 18:11:17  2024-02-05 18:11:24  +6390998***20     spam   \n",
       "1  2023-03-28 16:28:37  2023-03-28 16:28:48          GCash      ads   \n",
       "2  2023-03-29 16:45:31  2023-03-29 16:45:38          GCash   notifs   \n",
       "3  2023-03-29 17:17:32  2023-03-29 17:17:43          GCash   notifs   \n",
       "4  2023-03-30 10:16:02  2023-03-30 10:16:03          GCash      OTP   \n",
       "\n",
       "                                                text  \n",
       "0  Make money while watching YouTube, earn 500P p...  \n",
       "1  Get up to P125K extra funds for emergencies wi...  \n",
       "2                                         <REDACTED>  \n",
       "3                                         <REDACTED>  \n",
       "4                                         <REDACTED>  "
      ]
     },
     "execution_count": 606,
     "metadata": {},
     "output_type": "execute_result"
    }
   ],
   "source": [
    "df1.head()"
   ]
  },
  {
   "cell_type": "code",
   "execution_count": 607,
   "metadata": {},
   "outputs": [
    {
     "data": {
      "text/html": [
       "<div>\n",
       "<style scoped>\n",
       "    .dataframe tbody tr th:only-of-type {\n",
       "        vertical-align: middle;\n",
       "    }\n",
       "\n",
       "    .dataframe tbody tr th {\n",
       "        vertical-align: top;\n",
       "    }\n",
       "\n",
       "    .dataframe thead th {\n",
       "        text-align: right;\n",
       "    }\n",
       "</style>\n",
       "<table border=\"1\" class=\"dataframe\">\n",
       "  <thead>\n",
       "    <tr style=\"text-align: right;\">\n",
       "      <th></th>\n",
       "      <th>masked_celphone_number</th>\n",
       "      <th>hashed_celphone_number</th>\n",
       "      <th>date</th>\n",
       "      <th>text</th>\n",
       "      <th>carrier</th>\n",
       "    </tr>\n",
       "  </thead>\n",
       "  <tbody>\n",
       "    <tr>\n",
       "      <th>0</th>\n",
       "      <td>+63998****809</td>\n",
       "      <td>6c8cee87-7025-3b11-b7f4-2445f62c2e8c</td>\n",
       "      <td>2018-01-23 04:46:26.719</td>\n",
       "      <td>A new and \"Green\" township will be rising in t...</td>\n",
       "      <td>Smart</td>\n",
       "    </tr>\n",
       "    <tr>\n",
       "      <th>1</th>\n",
       "      <td>+63908****673</td>\n",
       "      <td>5a59adcb-ba3d-3b04-8dcc-3e39cc3f4974</td>\n",
       "      <td>2018-01-24 12:44:09.178</td>\n",
       "      <td>New OFFICE space for sale in Ortigas Avenue ne...</td>\n",
       "      <td>Smart</td>\n",
       "    </tr>\n",
       "    <tr>\n",
       "      <th>2</th>\n",
       "      <td>+63917****194</td>\n",
       "      <td>a14c754f-80b2-3797-8dde-0c3232e2d1df</td>\n",
       "      <td>2018-02-01 20:55:48.554</td>\n",
       "      <td>Celebrate the season of love with a sweet stay...</td>\n",
       "      <td>Globe PostPaid</td>\n",
       "    </tr>\n",
       "    <tr>\n",
       "      <th>3</th>\n",
       "      <td>+63920****952</td>\n",
       "      <td>132b9c54-4f79-33c3-b442-12d2318fb5d5</td>\n",
       "      <td>2018-02-28 10:37:26.541</td>\n",
       "      <td>Shangri-La Updates:\\n\\nRISEmakati\\n\\n-One-of-a...</td>\n",
       "      <td>Smart</td>\n",
       "    </tr>\n",
       "    <tr>\n",
       "      <th>4</th>\n",
       "      <td>+63907****270</td>\n",
       "      <td>28d44ab6-02a5-3eb6-8037-db43abbe8a47</td>\n",
       "      <td>2018-03-07 06:28:35.858</td>\n",
       "      <td>Co in Makati needs Software Java Developer, kn...</td>\n",
       "      <td>TNT</td>\n",
       "    </tr>\n",
       "  </tbody>\n",
       "</table>\n",
       "</div>"
      ],
      "text/plain": [
       "  masked_celphone_number                hashed_celphone_number  \\\n",
       "0          +63998****809  6c8cee87-7025-3b11-b7f4-2445f62c2e8c   \n",
       "1          +63908****673  5a59adcb-ba3d-3b04-8dcc-3e39cc3f4974   \n",
       "2          +63917****194  a14c754f-80b2-3797-8dde-0c3232e2d1df   \n",
       "3          +63920****952  132b9c54-4f79-33c3-b442-12d2318fb5d5   \n",
       "4          +63907****270  28d44ab6-02a5-3eb6-8037-db43abbe8a47   \n",
       "\n",
       "                      date                                               text  \\\n",
       "0  2018-01-23 04:46:26.719  A new and \"Green\" township will be rising in t...   \n",
       "1  2018-01-24 12:44:09.178  New OFFICE space for sale in Ortigas Avenue ne...   \n",
       "2  2018-02-01 20:55:48.554  Celebrate the season of love with a sweet stay...   \n",
       "3  2018-02-28 10:37:26.541  Shangri-La Updates:\\n\\nRISEmakati\\n\\n-One-of-a...   \n",
       "4  2018-03-07 06:28:35.858  Co in Makati needs Software Java Developer, kn...   \n",
       "\n",
       "          carrier  \n",
       "0           Smart  \n",
       "1           Smart  \n",
       "2  Globe PostPaid  \n",
       "3           Smart  \n",
       "4             TNT  "
      ]
     },
     "execution_count": 607,
     "metadata": {},
     "output_type": "execute_result"
    }
   ],
   "source": [
    "df2.head()"
   ]
  },
  {
   "cell_type": "code",
   "execution_count": 608,
   "metadata": {},
   "outputs": [
    {
     "data": {
      "text/html": [
       "<div>\n",
       "<style scoped>\n",
       "    .dataframe tbody tr th:only-of-type {\n",
       "        vertical-align: middle;\n",
       "    }\n",
       "\n",
       "    .dataframe tbody tr th {\n",
       "        vertical-align: top;\n",
       "    }\n",
       "\n",
       "    .dataframe thead th {\n",
       "        text-align: right;\n",
       "    }\n",
       "</style>\n",
       "<table border=\"1\" class=\"dataframe\">\n",
       "  <thead>\n",
       "    <tr style=\"text-align: right;\">\n",
       "      <th></th>\n",
       "      <th>v1</th>\n",
       "      <th>v2</th>\n",
       "      <th>Unnamed: 2</th>\n",
       "      <th>Unnamed: 3</th>\n",
       "      <th>Unnamed: 4</th>\n",
       "    </tr>\n",
       "  </thead>\n",
       "  <tbody>\n",
       "    <tr>\n",
       "      <th>0</th>\n",
       "      <td>ham</td>\n",
       "      <td>Go until jurong point, crazy.. Available only ...</td>\n",
       "      <td>NaN</td>\n",
       "      <td>NaN</td>\n",
       "      <td>NaN</td>\n",
       "    </tr>\n",
       "    <tr>\n",
       "      <th>1</th>\n",
       "      <td>ham</td>\n",
       "      <td>Ok lar... Joking wif u oni...</td>\n",
       "      <td>NaN</td>\n",
       "      <td>NaN</td>\n",
       "      <td>NaN</td>\n",
       "    </tr>\n",
       "    <tr>\n",
       "      <th>2</th>\n",
       "      <td>spam</td>\n",
       "      <td>Free entry in 2 a wkly comp to win FA Cup fina...</td>\n",
       "      <td>NaN</td>\n",
       "      <td>NaN</td>\n",
       "      <td>NaN</td>\n",
       "    </tr>\n",
       "    <tr>\n",
       "      <th>3</th>\n",
       "      <td>ham</td>\n",
       "      <td>U dun say so early hor... U c already then say...</td>\n",
       "      <td>NaN</td>\n",
       "      <td>NaN</td>\n",
       "      <td>NaN</td>\n",
       "    </tr>\n",
       "    <tr>\n",
       "      <th>4</th>\n",
       "      <td>ham</td>\n",
       "      <td>Nah I don't think he goes to usf, he lives aro...</td>\n",
       "      <td>NaN</td>\n",
       "      <td>NaN</td>\n",
       "      <td>NaN</td>\n",
       "    </tr>\n",
       "  </tbody>\n",
       "</table>\n",
       "</div>"
      ],
      "text/plain": [
       "     v1                                                 v2 Unnamed: 2  \\\n",
       "0   ham  Go until jurong point, crazy.. Available only ...        NaN   \n",
       "1   ham                      Ok lar... Joking wif u oni...        NaN   \n",
       "2  spam  Free entry in 2 a wkly comp to win FA Cup fina...        NaN   \n",
       "3   ham  U dun say so early hor... U c already then say...        NaN   \n",
       "4   ham  Nah I don't think he goes to usf, he lives aro...        NaN   \n",
       "\n",
       "  Unnamed: 3 Unnamed: 4  \n",
       "0        NaN        NaN  \n",
       "1        NaN        NaN  \n",
       "2        NaN        NaN  \n",
       "3        NaN        NaN  \n",
       "4        NaN        NaN  "
      ]
     },
     "execution_count": 608,
     "metadata": {},
     "output_type": "execute_result"
    }
   ],
   "source": [
    "df3.head()"
   ]
  },
  {
   "cell_type": "code",
   "execution_count": 609,
   "metadata": {},
   "outputs": [
    {
     "data": {
      "text/html": [
       "<div>\n",
       "<style scoped>\n",
       "    .dataframe tbody tr th:only-of-type {\n",
       "        vertical-align: middle;\n",
       "    }\n",
       "\n",
       "    .dataframe tbody tr th {\n",
       "        vertical-align: top;\n",
       "    }\n",
       "\n",
       "    .dataframe thead th {\n",
       "        text-align: right;\n",
       "    }\n",
       "</style>\n",
       "<table border=\"1\" class=\"dataframe\">\n",
       "  <thead>\n",
       "    <tr style=\"text-align: right;\">\n",
       "      <th></th>\n",
       "      <th>target</th>\n",
       "      <th>text</th>\n",
       "    </tr>\n",
       "  </thead>\n",
       "  <tbody>\n",
       "    <tr>\n",
       "      <th>0</th>\n",
       "      <td>spam</td>\n",
       "      <td>Congratulations! You've been selected for a lu...</td>\n",
       "    </tr>\n",
       "    <tr>\n",
       "      <th>1</th>\n",
       "      <td>spam</td>\n",
       "      <td>URGENT: Your account has been compromised. Cli...</td>\n",
       "    </tr>\n",
       "    <tr>\n",
       "      <th>2</th>\n",
       "      <td>spam</td>\n",
       "      <td>You've won a free iPhone! Claim your prize by ...</td>\n",
       "    </tr>\n",
       "    <tr>\n",
       "      <th>3</th>\n",
       "      <td>spam</td>\n",
       "      <td>Act now and receive a 50% discount on all purc...</td>\n",
       "    </tr>\n",
       "    <tr>\n",
       "      <th>4</th>\n",
       "      <td>spam</td>\n",
       "      <td>Important notice: Your subscription will expir...</td>\n",
       "    </tr>\n",
       "  </tbody>\n",
       "</table>\n",
       "</div>"
      ],
      "text/plain": [
       "  target                                               text\n",
       "0   spam  Congratulations! You've been selected for a lu...\n",
       "1   spam  URGENT: Your account has been compromised. Cli...\n",
       "2   spam  You've won a free iPhone! Claim your prize by ...\n",
       "3   spam  Act now and receive a 50% discount on all purc...\n",
       "4   spam  Important notice: Your subscription will expir..."
      ]
     },
     "execution_count": 609,
     "metadata": {},
     "output_type": "execute_result"
    }
   ],
   "source": [
    "df4.head()"
   ]
  },
  {
   "cell_type": "code",
   "execution_count": 610,
   "metadata": {},
   "outputs": [
    {
     "data": {
      "text/html": [
       "<div>\n",
       "<style scoped>\n",
       "    .dataframe tbody tr th:only-of-type {\n",
       "        vertical-align: middle;\n",
       "    }\n",
       "\n",
       "    .dataframe tbody tr th {\n",
       "        vertical-align: top;\n",
       "    }\n",
       "\n",
       "    .dataframe thead th {\n",
       "        text-align: right;\n",
       "    }\n",
       "</style>\n",
       "<table border=\"1\" class=\"dataframe\">\n",
       "  <thead>\n",
       "    <tr style=\"text-align: right;\">\n",
       "      <th></th>\n",
       "      <th>v1</th>\n",
       "      <th>v2</th>\n",
       "    </tr>\n",
       "  </thead>\n",
       "  <tbody>\n",
       "    <tr>\n",
       "      <th>0</th>\n",
       "      <td>ham</td>\n",
       "      <td>SMS services. Your subscription is renewed</td>\n",
       "    </tr>\n",
       "    <tr>\n",
       "      <th>1</th>\n",
       "      <td>ham</td>\n",
       "      <td>SMS services. Your subscription is renewed</td>\n",
       "    </tr>\n",
       "    <tr>\n",
       "      <th>2</th>\n",
       "      <td>ham</td>\n",
       "      <td>Limited time offer! Get it now!</td>\n",
       "    </tr>\n",
       "    <tr>\n",
       "      <th>3</th>\n",
       "      <td>ham</td>\n",
       "      <td>Your chance to win a new iPhone! Click here now</td>\n",
       "    </tr>\n",
       "    <tr>\n",
       "      <th>4</th>\n",
       "      <td>ham</td>\n",
       "      <td>Congratulations! Thanks to a good friend</td>\n",
       "    </tr>\n",
       "  </tbody>\n",
       "</table>\n",
       "</div>"
      ],
      "text/plain": [
       "    v1                                               v2\n",
       "0  ham       SMS services. Your subscription is renewed\n",
       "1  ham       SMS services. Your subscription is renewed\n",
       "2  ham                  Limited time offer! Get it now!\n",
       "3  ham  Your chance to win a new iPhone! Click here now\n",
       "4  ham         Congratulations! Thanks to a good friend"
      ]
     },
     "execution_count": 610,
     "metadata": {},
     "output_type": "execute_result"
    }
   ],
   "source": [
    "df5.head()"
   ]
  },
  {
   "cell_type": "code",
   "execution_count": 611,
   "metadata": {},
   "outputs": [
    {
     "data": {
      "text/html": [
       "<div>\n",
       "<style scoped>\n",
       "    .dataframe tbody tr th:only-of-type {\n",
       "        vertical-align: middle;\n",
       "    }\n",
       "\n",
       "    .dataframe tbody tr th {\n",
       "        vertical-align: top;\n",
       "    }\n",
       "\n",
       "    .dataframe thead th {\n",
       "        text-align: right;\n",
       "    }\n",
       "</style>\n",
       "<table border=\"1\" class=\"dataframe\">\n",
       "  <thead>\n",
       "    <tr style=\"text-align: right;\">\n",
       "      <th></th>\n",
       "      <th>label</th>\n",
       "      <th>SMS</th>\n",
       "    </tr>\n",
       "  </thead>\n",
       "  <tbody>\n",
       "    <tr>\n",
       "      <th>0</th>\n",
       "      <td>spam</td>\n",
       "      <td>Make money while watching YouTube, earn 500P p...</td>\n",
       "    </tr>\n",
       "    <tr>\n",
       "      <th>1</th>\n",
       "      <td>ads</td>\n",
       "      <td>Get up to P125K extra funds for emergencies wi...</td>\n",
       "    </tr>\n",
       "    <tr>\n",
       "      <th>9</th>\n",
       "      <td>ads</td>\n",
       "      <td>G to upgrade your home! Just use GCredit to pa...</td>\n",
       "    </tr>\n",
       "    <tr>\n",
       "      <th>10</th>\n",
       "      <td>ads</td>\n",
       "      <td>Good news! You can still pay with GGives at yo...</td>\n",
       "    </tr>\n",
       "    <tr>\n",
       "      <th>11</th>\n",
       "      <td>ads</td>\n",
       "      <td>Get up to P125K extra funds for emergencies wi...</td>\n",
       "    </tr>\n",
       "    <tr>\n",
       "      <th>...</th>\n",
       "      <td>...</td>\n",
       "      <td>...</td>\n",
       "    </tr>\n",
       "    <tr>\n",
       "      <th>4172</th>\n",
       "      <td>gov</td>\n",
       "      <td>Pwede ng ma-access ang iba't ibang government ...</td>\n",
       "    </tr>\n",
       "    <tr>\n",
       "      <th>4173</th>\n",
       "      <td>gov</td>\n",
       "      <td>Pwede ng ma-access ang iba't ibang government ...</td>\n",
       "    </tr>\n",
       "    <tr>\n",
       "      <th>4174</th>\n",
       "      <td>gov</td>\n",
       "      <td>Pwede ng ma-access ang iba't ibang government ...</td>\n",
       "    </tr>\n",
       "    <tr>\n",
       "      <th>4175</th>\n",
       "      <td>gov</td>\n",
       "      <td>Pwede ng ma-access ang iba't ibang government ...</td>\n",
       "    </tr>\n",
       "    <tr>\n",
       "      <th>4176</th>\n",
       "      <td>gov</td>\n",
       "      <td>Pwede ng ma-access ang iba't ibang government ...</td>\n",
       "    </tr>\n",
       "  </tbody>\n",
       "</table>\n",
       "<p>1191 rows × 2 columns</p>\n",
       "</div>"
      ],
      "text/plain": [
       "     label                                                SMS\n",
       "0     spam  Make money while watching YouTube, earn 500P p...\n",
       "1      ads  Get up to P125K extra funds for emergencies wi...\n",
       "9      ads  G to upgrade your home! Just use GCredit to pa...\n",
       "10     ads  Good news! You can still pay with GGives at yo...\n",
       "11     ads  Get up to P125K extra funds for emergencies wi...\n",
       "...    ...                                                ...\n",
       "4172   gov  Pwede ng ma-access ang iba't ibang government ...\n",
       "4173   gov  Pwede ng ma-access ang iba't ibang government ...\n",
       "4174   gov  Pwede ng ma-access ang iba't ibang government ...\n",
       "4175   gov  Pwede ng ma-access ang iba't ibang government ...\n",
       "4176   gov  Pwede ng ma-access ang iba't ibang government ...\n",
       "\n",
       "[1191 rows x 2 columns]"
      ]
     },
     "execution_count": 611,
     "metadata": {},
     "output_type": "execute_result"
    }
   ],
   "source": [
    "# cleaning the datasets\n",
    "\n",
    "# Dataset 1\n",
    "#Index(['date-received', 'date-read', 'sender', 'category', 'text'], dtype='object')\n",
    "\n",
    "#keep only the text and category column\n",
    "df1 = df1[['category', 'text']]\n",
    "\n",
    "# change the column names to SMS and label\n",
    "df1.columns = ['label', 'SMS']\n",
    "\n",
    "# delete the rows with SMS = <REDACTED>\n",
    "df1 = df1[df1['SMS'] != '<REDACTED>']\n",
    "\n",
    "\n",
    "df1"
   ]
  },
  {
   "cell_type": "code",
   "execution_count": 612,
   "metadata": {},
   "outputs": [
    {
     "data": {
      "text/html": [
       "<div>\n",
       "<style scoped>\n",
       "    .dataframe tbody tr th:only-of-type {\n",
       "        vertical-align: middle;\n",
       "    }\n",
       "\n",
       "    .dataframe tbody tr th {\n",
       "        vertical-align: top;\n",
       "    }\n",
       "\n",
       "    .dataframe thead th {\n",
       "        text-align: right;\n",
       "    }\n",
       "</style>\n",
       "<table border=\"1\" class=\"dataframe\">\n",
       "  <thead>\n",
       "    <tr style=\"text-align: right;\">\n",
       "      <th></th>\n",
       "      <th>SMS</th>\n",
       "      <th>label</th>\n",
       "    </tr>\n",
       "  </thead>\n",
       "  <tbody>\n",
       "    <tr>\n",
       "      <th>0</th>\n",
       "      <td>A new and \"Green\" township will be rising in t...</td>\n",
       "      <td>1</td>\n",
       "    </tr>\n",
       "    <tr>\n",
       "      <th>1</th>\n",
       "      <td>New OFFICE space for sale in Ortigas Avenue ne...</td>\n",
       "      <td>1</td>\n",
       "    </tr>\n",
       "    <tr>\n",
       "      <th>2</th>\n",
       "      <td>Celebrate the season of love with a sweet stay...</td>\n",
       "      <td>1</td>\n",
       "    </tr>\n",
       "    <tr>\n",
       "      <th>3</th>\n",
       "      <td>Shangri-La Updates:\\n\\nRISEmakati\\n\\n-One-of-a...</td>\n",
       "      <td>1</td>\n",
       "    </tr>\n",
       "    <tr>\n",
       "      <th>4</th>\n",
       "      <td>Co in Makati needs Software Java Developer, kn...</td>\n",
       "      <td>1</td>\n",
       "    </tr>\n",
       "    <tr>\n",
       "      <th>...</th>\n",
       "      <td>...</td>\n",
       "      <td>...</td>\n",
       "    </tr>\n",
       "    <tr>\n",
       "      <th>841</th>\n",
       "      <td>Your domestic  parcel tracking code RR*-16PH i...</td>\n",
       "      <td>1</td>\n",
       "    </tr>\n",
       "    <tr>\n",
       "      <th>842</th>\n",
       "      <td>Your domestic  parcel tracking code RR*-16PH i...</td>\n",
       "      <td>1</td>\n",
       "    </tr>\n",
       "    <tr>\n",
       "      <th>843</th>\n",
       "      <td>Hi,&lt;REAL NAME&gt;! Gusto mo ba ng 18-888 raffle t...</td>\n",
       "      <td>1</td>\n",
       "    </tr>\n",
       "    <tr>\n",
       "      <th>844</th>\n",
       "      <td>fg.ss777b.fo New member download to get P2268 ...</td>\n",
       "      <td>1</td>\n",
       "    </tr>\n",
       "    <tr>\n",
       "      <th>845</th>\n",
       "      <td>Super Welcome bonus hanggang 3000 pesos ang ma...</td>\n",
       "      <td>1</td>\n",
       "    </tr>\n",
       "  </tbody>\n",
       "</table>\n",
       "<p>846 rows × 2 columns</p>\n",
       "</div>"
      ],
      "text/plain": [
       "                                                   SMS  label\n",
       "0    A new and \"Green\" township will be rising in t...      1\n",
       "1    New OFFICE space for sale in Ortigas Avenue ne...      1\n",
       "2    Celebrate the season of love with a sweet stay...      1\n",
       "3    Shangri-La Updates:\\n\\nRISEmakati\\n\\n-One-of-a...      1\n",
       "4    Co in Makati needs Software Java Developer, kn...      1\n",
       "..                                                 ...    ...\n",
       "841  Your domestic  parcel tracking code RR*-16PH i...      1\n",
       "842  Your domestic  parcel tracking code RR*-16PH i...      1\n",
       "843  Hi,<REAL NAME>! Gusto mo ba ng 18-888 raffle t...      1\n",
       "844  fg.ss777b.fo New member download to get P2268 ...      1\n",
       "845  Super Welcome bonus hanggang 3000 pesos ang ma...      1\n",
       "\n",
       "[846 rows x 2 columns]"
      ]
     },
     "execution_count": 612,
     "metadata": {},
     "output_type": "execute_result"
    }
   ],
   "source": [
    "# Dataset 2\n",
    "# Index(['masked_celphone_number', 'hashed_celphone_number', 'date', 'text','carrier'],dtype='object')\n",
    "\n",
    "# keep only the text column\n",
    "df2 = df2[['text']]\n",
    "\n",
    "# add a label column with the value 1\n",
    "df2['label'] = 1\n",
    "\n",
    "# change the column names to SMS and label\n",
    "df2.columns = ['SMS', 'label']\n",
    "\n",
    "df2\n"
   ]
  },
  {
   "cell_type": "code",
   "execution_count": 613,
   "metadata": {},
   "outputs": [
    {
     "data": {
      "text/html": [
       "<div>\n",
       "<style scoped>\n",
       "    .dataframe tbody tr th:only-of-type {\n",
       "        vertical-align: middle;\n",
       "    }\n",
       "\n",
       "    .dataframe tbody tr th {\n",
       "        vertical-align: top;\n",
       "    }\n",
       "\n",
       "    .dataframe thead th {\n",
       "        text-align: right;\n",
       "    }\n",
       "</style>\n",
       "<table border=\"1\" class=\"dataframe\">\n",
       "  <thead>\n",
       "    <tr style=\"text-align: right;\">\n",
       "      <th></th>\n",
       "      <th>label</th>\n",
       "      <th>SMS</th>\n",
       "    </tr>\n",
       "  </thead>\n",
       "  <tbody>\n",
       "    <tr>\n",
       "      <th>0</th>\n",
       "      <td>ham</td>\n",
       "      <td>Go until jurong point, crazy.. Available only ...</td>\n",
       "    </tr>\n",
       "    <tr>\n",
       "      <th>1</th>\n",
       "      <td>ham</td>\n",
       "      <td>Ok lar... Joking wif u oni...</td>\n",
       "    </tr>\n",
       "    <tr>\n",
       "      <th>2</th>\n",
       "      <td>spam</td>\n",
       "      <td>Free entry in 2 a wkly comp to win FA Cup fina...</td>\n",
       "    </tr>\n",
       "    <tr>\n",
       "      <th>3</th>\n",
       "      <td>ham</td>\n",
       "      <td>U dun say so early hor... U c already then say...</td>\n",
       "    </tr>\n",
       "    <tr>\n",
       "      <th>4</th>\n",
       "      <td>ham</td>\n",
       "      <td>Nah I don't think he goes to usf, he lives aro...</td>\n",
       "    </tr>\n",
       "    <tr>\n",
       "      <th>...</th>\n",
       "      <td>...</td>\n",
       "      <td>...</td>\n",
       "    </tr>\n",
       "    <tr>\n",
       "      <th>5567</th>\n",
       "      <td>spam</td>\n",
       "      <td>This is the 2nd time we have tried 2 contact u...</td>\n",
       "    </tr>\n",
       "    <tr>\n",
       "      <th>5568</th>\n",
       "      <td>ham</td>\n",
       "      <td>Will Ì_ b going to esplanade fr home?</td>\n",
       "    </tr>\n",
       "    <tr>\n",
       "      <th>5569</th>\n",
       "      <td>ham</td>\n",
       "      <td>Pity, * was in mood for that. So...any other s...</td>\n",
       "    </tr>\n",
       "    <tr>\n",
       "      <th>5570</th>\n",
       "      <td>ham</td>\n",
       "      <td>The guy did some bitching but I acted like i'd...</td>\n",
       "    </tr>\n",
       "    <tr>\n",
       "      <th>5571</th>\n",
       "      <td>ham</td>\n",
       "      <td>Rofl. Its true to its name</td>\n",
       "    </tr>\n",
       "  </tbody>\n",
       "</table>\n",
       "<p>5572 rows × 2 columns</p>\n",
       "</div>"
      ],
      "text/plain": [
       "     label                                                SMS\n",
       "0      ham  Go until jurong point, crazy.. Available only ...\n",
       "1      ham                      Ok lar... Joking wif u oni...\n",
       "2     spam  Free entry in 2 a wkly comp to win FA Cup fina...\n",
       "3      ham  U dun say so early hor... U c already then say...\n",
       "4      ham  Nah I don't think he goes to usf, he lives aro...\n",
       "...    ...                                                ...\n",
       "5567  spam  This is the 2nd time we have tried 2 contact u...\n",
       "5568   ham              Will Ì_ b going to esplanade fr home?\n",
       "5569   ham  Pity, * was in mood for that. So...any other s...\n",
       "5570   ham  The guy did some bitching but I acted like i'd...\n",
       "5571   ham                         Rofl. Its true to its name\n",
       "\n",
       "[5572 rows x 2 columns]"
      ]
     },
     "execution_count": 613,
     "metadata": {},
     "output_type": "execute_result"
    }
   ],
   "source": [
    "# Dataset 3\n",
    "# Index(['v1', 'v2', 'Unnamed: 2', 'Unnamed: 3', 'Unnamed: 4'], dtype='object')\n",
    "\n",
    "# keep only the v1 and v2 columns\n",
    "df3 = df3[['v1', 'v2']]\n",
    "\n",
    "# change the column names to label and SMS\n",
    "df3.columns = ['label', 'SMS']\n",
    "\n",
    "df3"
   ]
  },
  {
   "cell_type": "code",
   "execution_count": 614,
   "metadata": {},
   "outputs": [
    {
     "data": {
      "text/html": [
       "<div>\n",
       "<style scoped>\n",
       "    .dataframe tbody tr th:only-of-type {\n",
       "        vertical-align: middle;\n",
       "    }\n",
       "\n",
       "    .dataframe tbody tr th {\n",
       "        vertical-align: top;\n",
       "    }\n",
       "\n",
       "    .dataframe thead th {\n",
       "        text-align: right;\n",
       "    }\n",
       "</style>\n",
       "<table border=\"1\" class=\"dataframe\">\n",
       "  <thead>\n",
       "    <tr style=\"text-align: right;\">\n",
       "      <th></th>\n",
       "      <th>label</th>\n",
       "      <th>SMS</th>\n",
       "    </tr>\n",
       "  </thead>\n",
       "  <tbody>\n",
       "    <tr>\n",
       "      <th>0</th>\n",
       "      <td>spam</td>\n",
       "      <td>Congratulations! You've been selected for a lu...</td>\n",
       "    </tr>\n",
       "    <tr>\n",
       "      <th>1</th>\n",
       "      <td>spam</td>\n",
       "      <td>URGENT: Your account has been compromised. Cli...</td>\n",
       "    </tr>\n",
       "    <tr>\n",
       "      <th>2</th>\n",
       "      <td>spam</td>\n",
       "      <td>You've won a free iPhone! Claim your prize by ...</td>\n",
       "    </tr>\n",
       "    <tr>\n",
       "      <th>3</th>\n",
       "      <td>spam</td>\n",
       "      <td>Act now and receive a 50% discount on all purc...</td>\n",
       "    </tr>\n",
       "    <tr>\n",
       "      <th>4</th>\n",
       "      <td>spam</td>\n",
       "      <td>Important notice: Your subscription will expir...</td>\n",
       "    </tr>\n",
       "    <tr>\n",
       "      <th>...</th>\n",
       "      <td>...</td>\n",
       "      <td>...</td>\n",
       "    </tr>\n",
       "    <tr>\n",
       "      <th>10956</th>\n",
       "      <td>spam</td>\n",
       "      <td>Hey little one! Exciting news! Mama and baby a...</td>\n",
       "    </tr>\n",
       "    <tr>\n",
       "      <th>10957</th>\n",
       "      <td>spam</td>\n",
       "      <td>Amazing DATA deals on your Pulse Plan today! D...</td>\n",
       "    </tr>\n",
       "    <tr>\n",
       "      <th>10958</th>\n",
       "      <td>spam</td>\n",
       "      <td>Special offer just for you! Get 1GB @15 bob va...</td>\n",
       "    </tr>\n",
       "    <tr>\n",
       "      <th>10959</th>\n",
       "      <td>spam</td>\n",
       "      <td>NEW ARRIVAL - JUNE 23RD  Dresses @ 300; Kondel...</td>\n",
       "    </tr>\n",
       "    <tr>\n",
       "      <th>10960</th>\n",
       "      <td>spam</td>\n",
       "      <td>Coureen, did you know that saving on Timiza in...</td>\n",
       "    </tr>\n",
       "  </tbody>\n",
       "</table>\n",
       "<p>10961 rows × 2 columns</p>\n",
       "</div>"
      ],
      "text/plain": [
       "      label                                                SMS\n",
       "0      spam  Congratulations! You've been selected for a lu...\n",
       "1      spam  URGENT: Your account has been compromised. Cli...\n",
       "2      spam  You've won a free iPhone! Claim your prize by ...\n",
       "3      spam  Act now and receive a 50% discount on all purc...\n",
       "4      spam  Important notice: Your subscription will expir...\n",
       "...     ...                                                ...\n",
       "10956  spam  Hey little one! Exciting news! Mama and baby a...\n",
       "10957  spam  Amazing DATA deals on your Pulse Plan today! D...\n",
       "10958  spam  Special offer just for you! Get 1GB @15 bob va...\n",
       "10959  spam  NEW ARRIVAL - JUNE 23RD  Dresses @ 300; Kondel...\n",
       "10960  spam  Coureen, did you know that saving on Timiza in...\n",
       "\n",
       "[10961 rows x 2 columns]"
      ]
     },
     "execution_count": 614,
     "metadata": {},
     "output_type": "execute_result"
    }
   ],
   "source": [
    "# Dataset 4\n",
    "# Index(['target', 'text'], dtype='object')\n",
    "\n",
    "# change the column names to label and SMS\n",
    "df4.columns = ['label', 'SMS']\n",
    "\n",
    "df4"
   ]
  },
  {
   "cell_type": "code",
   "execution_count": 615,
   "metadata": {},
   "outputs": [
    {
     "data": {
      "text/html": [
       "<div>\n",
       "<style scoped>\n",
       "    .dataframe tbody tr th:only-of-type {\n",
       "        vertical-align: middle;\n",
       "    }\n",
       "\n",
       "    .dataframe tbody tr th {\n",
       "        vertical-align: top;\n",
       "    }\n",
       "\n",
       "    .dataframe thead th {\n",
       "        text-align: right;\n",
       "    }\n",
       "</style>\n",
       "<table border=\"1\" class=\"dataframe\">\n",
       "  <thead>\n",
       "    <tr style=\"text-align: right;\">\n",
       "      <th></th>\n",
       "      <th>label</th>\n",
       "      <th>SMS</th>\n",
       "    </tr>\n",
       "  </thead>\n",
       "  <tbody>\n",
       "    <tr>\n",
       "      <th>0</th>\n",
       "      <td>ham</td>\n",
       "      <td>SMS services. Your subscription is renewed</td>\n",
       "    </tr>\n",
       "    <tr>\n",
       "      <th>1</th>\n",
       "      <td>ham</td>\n",
       "      <td>SMS services. Your subscription is renewed</td>\n",
       "    </tr>\n",
       "    <tr>\n",
       "      <th>2</th>\n",
       "      <td>ham</td>\n",
       "      <td>Limited time offer! Get it now!</td>\n",
       "    </tr>\n",
       "    <tr>\n",
       "      <th>3</th>\n",
       "      <td>ham</td>\n",
       "      <td>Your chance to win a new iPhone! Click here now</td>\n",
       "    </tr>\n",
       "    <tr>\n",
       "      <th>4</th>\n",
       "      <td>ham</td>\n",
       "      <td>Congratulations! Thanks to a good friend</td>\n",
       "    </tr>\n",
       "    <tr>\n",
       "      <th>...</th>\n",
       "      <td>...</td>\n",
       "      <td>...</td>\n",
       "    </tr>\n",
       "    <tr>\n",
       "      <th>995</th>\n",
       "      <td>spam</td>\n",
       "      <td>Go until jurong point, crazy.. Available only</td>\n",
       "    </tr>\n",
       "    <tr>\n",
       "      <th>996</th>\n",
       "      <td>spam</td>\n",
       "      <td>You won't believe it but it's true. It's Incre...</td>\n",
       "    </tr>\n",
       "    <tr>\n",
       "      <th>997</th>\n",
       "      <td>spam</td>\n",
       "      <td>WINNER!! As a valued network customer</td>\n",
       "    </tr>\n",
       "    <tr>\n",
       "      <th>998</th>\n",
       "      <td>spam</td>\n",
       "      <td>SMS services. Your subscription is renewed</td>\n",
       "    </tr>\n",
       "    <tr>\n",
       "      <th>999</th>\n",
       "      <td>spam</td>\n",
       "      <td>Congratulations! Thanks to a good friend</td>\n",
       "    </tr>\n",
       "  </tbody>\n",
       "</table>\n",
       "<p>1000 rows × 2 columns</p>\n",
       "</div>"
      ],
      "text/plain": [
       "    label                                                SMS\n",
       "0     ham         SMS services. Your subscription is renewed\n",
       "1     ham         SMS services. Your subscription is renewed\n",
       "2     ham                    Limited time offer! Get it now!\n",
       "3     ham    Your chance to win a new iPhone! Click here now\n",
       "4     ham           Congratulations! Thanks to a good friend\n",
       "..    ...                                                ...\n",
       "995  spam      Go until jurong point, crazy.. Available only\n",
       "996  spam  You won't believe it but it's true. It's Incre...\n",
       "997  spam              WINNER!! As a valued network customer\n",
       "998  spam         SMS services. Your subscription is renewed\n",
       "999  spam           Congratulations! Thanks to a good friend\n",
       "\n",
       "[1000 rows x 2 columns]"
      ]
     },
     "execution_count": 615,
     "metadata": {},
     "output_type": "execute_result"
    }
   ],
   "source": [
    "# Dataset 5\n",
    "# Index(['v1', 'v2'], dtype='object')\n",
    "\n",
    "# change the column names to label and SMS\n",
    "df5.columns = ['label', 'SMS']\n",
    "\n",
    "df5"
   ]
  },
  {
   "cell_type": "code",
   "execution_count": 616,
   "metadata": {},
   "outputs": [
    {
     "data": {
      "text/html": [
       "<div>\n",
       "<style scoped>\n",
       "    .dataframe tbody tr th:only-of-type {\n",
       "        vertical-align: middle;\n",
       "    }\n",
       "\n",
       "    .dataframe tbody tr th {\n",
       "        vertical-align: top;\n",
       "    }\n",
       "\n",
       "    .dataframe thead th {\n",
       "        text-align: right;\n",
       "    }\n",
       "</style>\n",
       "<table border=\"1\" class=\"dataframe\">\n",
       "  <thead>\n",
       "    <tr style=\"text-align: right;\">\n",
       "      <th></th>\n",
       "      <th>label</th>\n",
       "      <th>SMS</th>\n",
       "    </tr>\n",
       "  </thead>\n",
       "  <tbody>\n",
       "    <tr>\n",
       "      <th>0</th>\n",
       "      <td>ham</td>\n",
       "      <td>Go until jurong point, crazy.. Available only ...</td>\n",
       "    </tr>\n",
       "    <tr>\n",
       "      <th>1</th>\n",
       "      <td>ham</td>\n",
       "      <td>Ok lar... Joking wif u oni...</td>\n",
       "    </tr>\n",
       "    <tr>\n",
       "      <th>2</th>\n",
       "      <td>spam</td>\n",
       "      <td>Free entry in 2 a wkly comp to win FA Cup fina...</td>\n",
       "    </tr>\n",
       "    <tr>\n",
       "      <th>3</th>\n",
       "      <td>ham</td>\n",
       "      <td>U dun say so early hor... U c already then say...</td>\n",
       "    </tr>\n",
       "    <tr>\n",
       "      <th>4</th>\n",
       "      <td>ham</td>\n",
       "      <td>Nah I don't think he goes to usf, he lives aro...</td>\n",
       "    </tr>\n",
       "    <tr>\n",
       "      <th>...</th>\n",
       "      <td>...</td>\n",
       "      <td>...</td>\n",
       "    </tr>\n",
       "    <tr>\n",
       "      <th>995</th>\n",
       "      <td>spam</td>\n",
       "      <td>Go until jurong point, crazy.. Available only</td>\n",
       "    </tr>\n",
       "    <tr>\n",
       "      <th>996</th>\n",
       "      <td>spam</td>\n",
       "      <td>You won't believe it but it's true. It's Incre...</td>\n",
       "    </tr>\n",
       "    <tr>\n",
       "      <th>997</th>\n",
       "      <td>spam</td>\n",
       "      <td>WINNER!! As a valued network customer</td>\n",
       "    </tr>\n",
       "    <tr>\n",
       "      <th>998</th>\n",
       "      <td>spam</td>\n",
       "      <td>SMS services. Your subscription is renewed</td>\n",
       "    </tr>\n",
       "    <tr>\n",
       "      <th>999</th>\n",
       "      <td>spam</td>\n",
       "      <td>Congratulations! Thanks to a good friend</td>\n",
       "    </tr>\n",
       "  </tbody>\n",
       "</table>\n",
       "<p>17533 rows × 2 columns</p>\n",
       "</div>"
      ],
      "text/plain": [
       "    label                                                SMS\n",
       "0     ham  Go until jurong point, crazy.. Available only ...\n",
       "1     ham                      Ok lar... Joking wif u oni...\n",
       "2    spam  Free entry in 2 a wkly comp to win FA Cup fina...\n",
       "3     ham  U dun say so early hor... U c already then say...\n",
       "4     ham  Nah I don't think he goes to usf, he lives aro...\n",
       "..    ...                                                ...\n",
       "995  spam      Go until jurong point, crazy.. Available only\n",
       "996  spam  You won't believe it but it's true. It's Incre...\n",
       "997  spam              WINNER!! As a valued network customer\n",
       "998  spam         SMS services. Your subscription is renewed\n",
       "999  spam           Congratulations! Thanks to a good friend\n",
       "\n",
       "[17533 rows x 2 columns]"
      ]
     },
     "execution_count": 616,
     "metadata": {},
     "output_type": "execute_result"
    }
   ],
   "source": [
    "# combine all the datasets\n",
    "df = pd.concat([df3, df4, df5], axis = 0)\n",
    "\n",
    "df"
   ]
  },
  {
   "cell_type": "code",
   "execution_count": 617,
   "metadata": {},
   "outputs": [
    {
     "data": {
      "text/plain": [
       "array(['ham', 'spam'], dtype=object)"
      ]
     },
     "execution_count": 617,
     "metadata": {},
     "output_type": "execute_result"
    }
   ],
   "source": [
    "# get all the unique values in the label column\n",
    "df['label'].unique()"
   ]
  },
  {
   "cell_type": "code",
   "execution_count": 618,
   "metadata": {},
   "outputs": [],
   "source": [
    "# for the values 'spam', 'ads', 'notifs', 'OTP', 'gov', 1, 'ham' change them to 1 or 0\n",
    "\n",
    "df['label'] = df['label'].apply(lambda x: 1 if x in ['spam', 'ads', 'notifs', 'OTP', 'gov', 1] else 0)"
   ]
  },
  {
   "cell_type": "code",
   "execution_count": 619,
   "metadata": {},
   "outputs": [
    {
     "data": {
      "text/plain": [
       "label    0\n",
       "SMS      0\n",
       "dtype: int64"
      ]
     },
     "execution_count": 619,
     "metadata": {},
     "output_type": "execute_result"
    }
   ],
   "source": [
    "# check for null values\n",
    "df.isnull().sum()"
   ]
  },
  {
   "cell_type": "code",
   "execution_count": 620,
   "metadata": {},
   "outputs": [],
   "source": [
    "# drop the null values\n",
    "df = df.dropna()"
   ]
  },
  {
   "cell_type": "code",
   "execution_count": 621,
   "metadata": {},
   "outputs": [
    {
     "name": "stdout",
     "output_type": "stream",
     "text": [
      "the number of empty strings is:  16\n"
     ]
    }
   ],
   "source": [
    "# check for empty strings\n",
    "\n",
    "blanks = []\n",
    "for index, text in df['SMS'].items():\n",
    "    \n",
    "    if text.isspace():\n",
    "        blanks.append(index)\n",
    "    \n",
    "\n",
    "print('the number of empty strings is: ', len(blanks))"
   ]
  },
  {
   "cell_type": "code",
   "execution_count": 622,
   "metadata": {},
   "outputs": [],
   "source": [
    "# drop the empty strings\n",
    "df.drop(blanks, inplace=True)"
   ]
  },
  {
   "cell_type": "code",
   "execution_count": 623,
   "metadata": {},
   "outputs": [
    {
     "data": {
      "text/plain": [
       "6730"
      ]
     },
     "execution_count": 623,
     "metadata": {},
     "output_type": "execute_result"
    }
   ],
   "source": [
    "# check if there are any duplicates\n",
    "df.duplicated().sum()"
   ]
  },
  {
   "cell_type": "code",
   "execution_count": 624,
   "metadata": {},
   "outputs": [
    {
     "data": {
      "text/plain": [
       "(10767, 2)"
      ]
     },
     "execution_count": 624,
     "metadata": {},
     "output_type": "execute_result"
    }
   ],
   "source": [
    "# delete the duplicated rows \n",
    "df = df.drop_duplicates()\n",
    "df.shape"
   ]
  },
  {
   "cell_type": "code",
   "execution_count": 625,
   "metadata": {},
   "outputs": [],
   "source": [
    "# reset the index\n",
    "df.reset_index(drop=True, inplace=True)"
   ]
  },
  {
   "cell_type": "code",
   "execution_count": 626,
   "metadata": {},
   "outputs": [
    {
     "data": {
      "text/plain": [
       "<Axes: ylabel='count'>"
      ]
     },
     "execution_count": 626,
     "metadata": {},
     "output_type": "execute_result"
    },
    {
     "data": {
      "image/png": "[encoded data removed]",
      "text/plain": [
       "<Figure size 640x480 with 1 Axes>"
      ]
     },
     "metadata": {},
     "output_type": "display_data"
    }
   ],
   "source": [
    "# number of spam and ham messages\n",
    "df['label'].value_counts().plot(kind = 'pie', labels = ['ham', 'spam'], autopct = '%1.1f%%')\n"
   ]
  },
  {
   "cell_type": "code",
   "execution_count": 627,
   "metadata": {},
   "outputs": [
    {
     "data": {
      "text/html": [
       "<div>\n",
       "<style scoped>\n",
       "    .dataframe tbody tr th:only-of-type {\n",
       "        vertical-align: middle;\n",
       "    }\n",
       "\n",
       "    .dataframe tbody tr th {\n",
       "        vertical-align: top;\n",
       "    }\n",
       "\n",
       "    .dataframe thead th {\n",
       "        text-align: right;\n",
       "    }\n",
       "</style>\n",
       "<table border=\"1\" class=\"dataframe\">\n",
       "  <thead>\n",
       "    <tr style=\"text-align: right;\">\n",
       "      <th></th>\n",
       "      <th>label</th>\n",
       "      <th>SMS</th>\n",
       "    </tr>\n",
       "  </thead>\n",
       "  <tbody>\n",
       "    <tr>\n",
       "      <th>0</th>\n",
       "      <td>1</td>\n",
       "      <td>As a Registered Subscriber yr draw 4 a �100 gi...</td>\n",
       "    </tr>\n",
       "    <tr>\n",
       "      <th>1</th>\n",
       "      <td>0</td>\n",
       "      <td>vacation i will be out on vacation the week of...</td>\n",
       "    </tr>\n",
       "    <tr>\n",
       "      <th>2</th>\n",
       "      <td>1</td>\n",
       "      <td>notification of bequest from : dr . abdul kare...</td>\n",
       "    </tr>\n",
       "    <tr>\n",
       "      <th>3</th>\n",
       "      <td>0</td>\n",
       "      <td>Nope... Juz off from work...</td>\n",
       "    </tr>\n",
       "    <tr>\n",
       "      <th>4</th>\n",
       "      <td>0</td>\n",
       "      <td>Hey, iouri gave me your number, I'm wylie, rya...</td>\n",
       "    </tr>\n",
       "    <tr>\n",
       "      <th>8</th>\n",
       "      <td>1</td>\n",
       "      <td>cheap pharmacy st do you want cheap and new ov...</td>\n",
       "    </tr>\n",
       "  </tbody>\n",
       "</table>\n",
       "</div>"
      ],
      "text/plain": [
       "   label                                                SMS\n",
       "0      1  As a Registered Subscriber yr draw 4 a �100 gi...\n",
       "1      0  vacation i will be out on vacation the week of...\n",
       "2      1  notification of bequest from : dr . abdul kare...\n",
       "3      0                       Nope... Juz off from work...\n",
       "4      0  Hey, iouri gave me your number, I'm wylie, rya...\n",
       "8      1  cheap pharmacy st do you want cheap and new ov..."
      ]
     },
     "execution_count": 627,
     "metadata": {},
     "output_type": "execute_result"
    }
   ],
   "source": [
    "# remove 3 spam messages and 3 ham messages to use them for testing and delete them from the training set\n",
    "\n",
    "df = df.sample(frac = 1).reset_index(drop = True)\n",
    "\n",
    "\n",
    "df_test = df.groupby('label').head(3)\n",
    "\n",
    "df = df.drop(df_test.index)\n",
    "\n",
    "df_test\n"
   ]
  },
  {
   "cell_type": "code",
   "execution_count": 628,
   "metadata": {},
   "outputs": [
    {
     "data": {
      "text/plain": [
       "1613"
      ]
     },
     "execution_count": 628,
     "metadata": {},
     "output_type": "execute_result"
    }
   ],
   "source": [
    "len(df_test[\"SMS\"][2])"
   ]
  },
  {
   "cell_type": "code",
   "execution_count": 629,
   "metadata": {},
   "outputs": [],
   "source": [
    "from nltk.corpus import stopwords\n",
    "from nltk.stem import WordNetLemmatizer \n",
    "import spacy\n",
    "import re"
   ]
  },
  {
   "cell_type": "code",
   "execution_count": 630,
   "metadata": {},
   "outputs": [],
   "source": [
    "#loading spacy library\n",
    "nlp=spacy.load(\"en_core_web_sm\")\n",
    "\n",
    "#creating instance\n",
    "lemma=WordNetLemmatizer()"
   ]
  },
  {
   "cell_type": "code",
   "execution_count": 631,
   "metadata": {},
   "outputs": [
    {
     "name": "stdout",
     "output_type": "stream",
     "text": [
      "326\n",
      "179\n",
      "382\n"
     ]
    }
   ],
   "source": [
    "#creating list of stopwords containing stopwords from spacy and nltk\n",
    "\n",
    "#stopwords of spacy\n",
    "list1=nlp.Defaults.stop_words\n",
    "print(len(list1))\n",
    "\n",
    "#stopwords of NLTK\n",
    "list2=stopwords.words('english')\n",
    "print(len(list2))\n",
    "\n",
    "#combining the stopword list\n",
    "Stopwords=set((set(list1)|set(list2)))\n",
    "print(len(Stopwords))"
   ]
  },
  {
   "cell_type": "code",
   "execution_count": 632,
   "metadata": {},
   "outputs": [],
   "source": [
    "#text cleaning function\n",
    "def clean_text(text):  \n",
    "    string = \"\"\n",
    "    \n",
    "    #lower casing\n",
    "    text=text.lower()\n",
    "    \n",
    "    #simplifying text\n",
    "    text=re.sub(r\"i'm\",\"i am\",text)\n",
    "    text=re.sub(r\"he's\",\"he is\",text)\n",
    "    text=re.sub(r\"she's\",\"she is\",text)\n",
    "    text=re.sub(r\"that's\",\"that is\",text)\n",
    "    text=re.sub(r\"what's\",\"what is\",text)\n",
    "    text=re.sub(r\"where's\",\"where is\",text)\n",
    "    text=re.sub(r\"\\'ll\",\" will\",text)\n",
    "    text=re.sub(r\"\\'ve\",\" have\",text)\n",
    "    text=re.sub(r\"\\'re\",\" are\",text)\n",
    "    text=re.sub(r\"\\'d\",\" would\",text)\n",
    "    text=re.sub(r\"won't\",\"will not\",text)\n",
    "    text=re.sub(r\"can't\",\"cannot\",text)\n",
    "    text=re.sub(r\"n't\",\" not\",text)\n",
    "    \n",
    "    \n",
    "    #removing any special character\n",
    "    text=re.sub(r\"[-()\\\"#!@$%^&*{}?.,:]\",\" \",text)\n",
    "    text=re.sub(r\"\\s+\",\" \",text)\n",
    "    text=re.sub('[^A-Za-z0-9]+',' ', text)\n",
    "\n",
    "    #replace numbers with 'num'\n",
    "    text=re.sub(r\"\\d\",\"num\",text)\n",
    "\n",
    "    #replace URL with 'url'\n",
    "    text=re.sub(r\"http\\S+\",\"url\",text)\n",
    "    \n",
    "    for word in text.split():\n",
    "        if word not in Stopwords:\n",
    "            string+=lemma.lemmatize(word)+\" \"\n",
    "    \n",
    "    return string"
   ]
  },
  {
   "cell_type": "code",
   "execution_count": 633,
   "metadata": {},
   "outputs": [
    {
     "name": "stderr",
     "output_type": "stream",
     "text": [
      "[nltk_data] Downloading package wordnet to\n",
      "[nltk_data]     C:\\Users\\lemon\\AppData\\Roaming\\nltk_data...\n",
      "[nltk_data]   Package wordnet is already up-to-date!\n"
     ]
    },
    {
     "data": {
      "text/plain": [
       "True"
      ]
     },
     "execution_count": 633,
     "metadata": {},
     "output_type": "execute_result"
    }
   ],
   "source": [
    "import nltk\n",
    "nltk.download('wordnet')"
   ]
  },
  {
   "cell_type": "code",
   "execution_count": null,
   "metadata": {},
   "outputs": [],
   "source": []
  },
  {
   "cell_type": "code",
   "execution_count": 634,
   "metadata": {},
   "outputs": [],
   "source": [
    "#cleaning the data\n",
    "df[\"SMS\"]=df[\"SMS\"].apply(clean_text)"
   ]
  },
  {
   "cell_type": "code",
   "execution_count": 635,
   "metadata": {},
   "outputs": [
    {
     "data": {
      "text/plain": [
       "(10761, 2)"
      ]
     },
     "execution_count": 635,
     "metadata": {},
     "output_type": "execute_result"
    }
   ],
   "source": [
    "df.shape"
   ]
  },
  {
   "cell_type": "code",
   "execution_count": null,
   "metadata": {},
   "outputs": [],
   "source": [
    "\n",
    "\n"
   ]
  },
  {
   "cell_type": "code",
   "execution_count": null,
   "metadata": {},
   "outputs": [],
   "source": []
  },
  {
   "cell_type": "markdown",
   "metadata": {},
   "source": [
    "# Feature-Extraction & Model building"
   ]
  },
  {
   "cell_type": "code",
   "execution_count": 636,
   "metadata": {},
   "outputs": [],
   "source": [
    "#splitting the data \n",
    "from sklearn.model_selection import train_test_split\n",
    "\n",
    "# since the data is imbalanced we will use stratify to make sure that the data is split in a way that the proportion of spam and ham messages is the same in both the training and testing set\n",
    "X_train, X_test, y_train, y_test = train_test_split(df['SMS'], df['label'], test_size = 0.2, random_state = 42, stratify = df['label'])"
   ]
  },
  {
   "cell_type": "code",
   "execution_count": 637,
   "metadata": {},
   "outputs": [
    {
     "name": "stdout",
     "output_type": "stream",
     "text": [
      "(8608,)\n",
      "(2153,)\n",
      "(8608,)\n",
      "(2153,)\n"
     ]
    }
   ],
   "source": [
    "# print the shape of the training and testing set\n",
    "print(X_train.shape)\n",
    "print(X_test.shape)\n",
    "print(y_train.shape)\n",
    "print(y_test.shape)"
   ]
  },
  {
   "cell_type": "code",
   "execution_count": 638,
   "metadata": {},
   "outputs": [
    {
     "data": {
      "text/plain": [
       "<Axes: ylabel='count'>"
      ]
     },
     "execution_count": 638,
     "metadata": {},
     "output_type": "execute_result"
    },
    {
     "data": {
      "image/png": "[encoded data removed]",
      "text/plain": [
       "<Figure size 640x480 with 1 Axes>"
      ]
     },
     "metadata": {},
     "output_type": "display_data"
    }
   ],
   "source": [
    "# destribution of ham and spam messages in the training set\n",
    "y_train.value_counts().plot(kind = 'pie', labels = ['ham', 'spam'], autopct = '%1.1f%%')\n"
   ]
  },
  {
   "cell_type": "code",
   "execution_count": 639,
   "metadata": {},
   "outputs": [
    {
     "data": {
      "text/plain": [
       "<Axes: ylabel='count'>"
      ]
     },
     "execution_count": 639,
     "metadata": {},
     "output_type": "execute_result"
    },
    {
     "data": {
      "image/png": "[encoded data removed]",
      "text/plain": [
       "<Figure size 640x480 with 1 Axes>"
      ]
     },
     "metadata": {},
     "output_type": "display_data"
    }
   ],
   "source": [
    "# destribution of ham and spam messages in the testing set\n",
    "y_test.value_counts().plot(kind = 'pie', labels = ['ham', 'spam'], autopct = '%1.1f%%')"
   ]
  },
  {
   "cell_type": "code",
   "execution_count": 640,
   "metadata": {},
   "outputs": [],
   "source": [
    "from sklearn.pipeline import Pipeline\n",
    "from sklearn.feature_extraction.text import TfidfVectorizer\n",
    "from sklearn.svm import LinearSVC"
   ]
  },
  {
   "cell_type": "code",
   "execution_count": 641,
   "metadata": {},
   "outputs": [],
   "source": [
    "# create a pipeline\n",
    "text_clf=Pipeline([(\"tfidf\",TfidfVectorizer()),(\"clf\",LinearSVC())])"
   ]
  },
  {
   "cell_type": "code",
   "execution_count": 642,
   "metadata": {},
   "outputs": [
    {
     "name": "stderr",
     "output_type": "stream",
     "text": [
      "c:\\Users\\lemon\\AppData\\Local\\Programs\\Python\\Python311\\Lib\\site-packages\\sklearn\\svm\\_classes.py:32: FutureWarning: The default value of `dual` will change from `True` to `'auto'` in 1.5. Set the value of `dual` explicitly to suppress the warning.\n",
      "  warnings.warn(\n"
     ]
    }
   ],
   "source": [
    "\n",
    "model = text_clf.fit(X_train,y_train)"
   ]
  },
  {
   "cell_type": "code",
   "execution_count": 643,
   "metadata": {},
   "outputs": [],
   "source": [
    "#making prediction using the model\n",
    "predictions=model.predict(X_test)"
   ]
  },
  {
   "cell_type": "markdown",
   "metadata": {},
   "source": [
    "# Evaluating the model"
   ]
  },
  {
   "cell_type": "code",
   "execution_count": 644,
   "metadata": {},
   "outputs": [
    {
     "name": "stdout",
     "output_type": "stream",
     "text": [
      "              precision    recall  f1-score   support\n",
      "\n",
      "           0       0.96      0.98      0.97      1651\n",
      "           1       0.94      0.88      0.91       502\n",
      "\n",
      "    accuracy                           0.96      2153\n",
      "   macro avg       0.95      0.93      0.94      2153\n",
      "weighted avg       0.96      0.96      0.96      2153\n",
      "\n"
     ]
    }
   ],
   "source": [
    "# the classification report\n",
    "from sklearn import metrics\n",
    "print(metrics.classification_report(y_test,predictions))"
   ]
  },
  {
   "cell_type": "code",
   "execution_count": 645,
   "metadata": {},
   "outputs": [
    {
     "name": "stdout",
     "output_type": "stream",
     "text": [
      "0.9577333952624245\n"
     ]
    }
   ],
   "source": [
    "# the models accuracy\n",
    "print(metrics.accuracy_score(y_test,predictions))"
   ]
  },
  {
   "cell_type": "code",
   "execution_count": 646,
   "metadata": {},
   "outputs": [
    {
     "name": "stdout",
     "output_type": "stream",
     "text": [
      "[[1621   30]\n",
      " [  61  441]]\n"
     ]
    }
   ],
   "source": [
    "#confusion matrix\n",
    "print(metrics.confusion_matrix(y_test,predictions))"
   ]
  },
  {
   "cell_type": "code",
   "execution_count": 647,
   "metadata": {},
   "outputs": [
    {
     "data": {
      "text/plain": [
       "[Text(0, 0.5, 'ham'), Text(0, 1.5, 'spam')]"
      ]
     },
     "execution_count": 647,
     "metadata": {},
     "output_type": "execute_result"
    },
    {
     "data": {
      "image/png": "[encoded data removed]",
      "text/plain": [
       "<Figure size 640x480 with 2 Axes>"
      ]
     },
     "metadata": {},
     "output_type": "display_data"
    }
   ],
   "source": [
    "# plotting the confusion matrix\n",
    "from sklearn.metrics import confusion_matrix\n",
    "import seaborn as sns\n",
    "import matplotlib.pyplot as plt\n",
    "\n",
    "cm = confusion_matrix(y_test, predictions)\n",
    "ax = plt.subplot()\n",
    "sns.heatmap(cm, annot = True, ax = ax)\n",
    "\n",
    "ax.set_xlabel('Predicted')\n",
    "ax.set_ylabel('Actual')\n",
    "ax.set_title('Confusion Matrix')\n",
    "ax.xaxis.set_ticklabels(['ham', 'spam'])\n",
    "ax.yaxis.set_ticklabels(['ham', 'spam'])\n",
    "\n"
   ]
  },
  {
   "cell_type": "code",
   "execution_count": 648,
   "metadata": {},
   "outputs": [
    {
     "data": {
      "text/plain": [
       "['spam_detection_model.pkl']"
      ]
     },
     "execution_count": 648,
     "metadata": {},
     "output_type": "execute_result"
    }
   ],
   "source": [
    "# save the model\n",
    "import joblib\n",
    "joblib.dump(model, 'spam_detection_model.pkl')"
   ]
  },
  {
   "cell_type": "markdown",
   "metadata": {},
   "source": [
    "# Testing the model"
   ]
  },
  {
   "cell_type": "code",
   "execution_count": 649,
   "metadata": {},
   "outputs": [],
   "source": [
    "# test the model\n",
    "\n",
    "def predict_spam(sms):\n",
    "    sms = clean_text(sms)\n",
    "    return model.predict([sms])[0]"
   ]
  },
  {
   "cell_type": "code",
   "execution_count": 650,
   "metadata": {},
   "outputs": [
    {
     "name": "stdout",
     "output_type": "stream",
     "text": [
      "This is a spam message\n"
     ]
    }
   ],
   "source": [
    "\n",
    "spam = \"Congratulations! you have won a free trip to the Bahamas. Text 'WIN' to 12345 to claim your prize\"\n",
    "ham = \"hey there it's been a while !\"\n",
    "\n",
    "sms = spam\n",
    "\n",
    "if model.predict([sms])[0] == 1:\n",
    "    print(\"This is a spam message\")\n",
    "else:\n",
    "    print(\"This is not a spam message\")"
   ]
  },
  {
   "cell_type": "code",
   "execution_count": 651,
   "metadata": {},
   "outputs": [
    {
     "name": "stdout",
     "output_type": "stream",
     "text": [
      "SMS:  As a Registered Subscriber yr draw 4 a �100 gift voucher will b entered on receipt of a correct ans. When are the next olympics. Txt ans to 80062\n",
      "Actual:  1\n",
      "Prediction:  1\n",
      "\n",
      "\n",
      "SMS:  vacation i will be out on vacation the week of july 3 , back at the office on july 10 th . my main contact will be stella morris at ext . 3319 . my desk will be split as follows : stella - nng - blackmarlin ( onshore ) , black marlin ( offshore ) , amoco third party , centana ( on & off system , storage ) , eastrans aimee - carthage , tufco updates , bridge back mark mccoy - katy lonestar ( on & offsystem ) tom acton - send nominations mops to pops please pass this to other members of your groups , thanks . carlos\n",
      "Actual:  0\n",
      "Prediction:  0\n",
      "\n",
      "\n",
      "SMS:  notification of bequest from : dr . abdul kareem kareem co . ( solicitors advocates ) # 34 akin osiyemi . ikeja - lagos nigeria . tel : 234 - 80 - 33792343 ( ab _ karol @ fastermail . com ) notification of bequest this is sequel to your non response of our earlier letter to you on behalf of the trustees and executors to the will of late of sir engr . john scott ( ksm ) , i wish to notify you that you were listed as a beneficiary to the bequest of the sum of us $ 3 , 100 . 000 [ three million one hundred thousand us dollars ] in the codicil and last testament of the deceased . the late sir engr . john scott until his death was a former managing director and pioneer staff of a big construction company ( julius berger ) here in nigeria . he was a very dedicated christian and a great philanthropist during his life time . late sir john scott died on 9 th february 2002 at the age of 68 , he was buried on the 23 rd of february . late sir john scott even though he was an american living and working in here as a foreigner he requested before his death that he be buried here in his words , i regard here as my home and the people as my people . he said that this token is to support your ministry and help to the less - privilegded . i hereby request that you forward any proof of identities of yours , your current telephone and fax numbers and your forwarding address in this private mail box ( ab _ karol @ fastermail . com ) to enable us file necessary documents at our high court probate division for the release of this bequest of money . congratulations . yours faithfully , dr abdul kareem ( san ) \n",
      "Actual:  1\n",
      "Prediction:  0\n",
      "\n",
      "\n",
      "SMS:  Nope... Juz off from work...\n",
      "Actual:  0\n",
      "Prediction:  0\n",
      "\n",
      "\n",
      "SMS:  Hey, iouri gave me your number, I'm wylie, ryan's friend\n",
      "Actual:  0\n",
      "Prediction:  0\n",
      "\n",
      "\n",
      "SMS:  cheap pharmacy st do you want cheap and new overseas drugs ? http : / / www . tikn . com / \n",
      "Actual:  1\n",
      "Prediction:  1\n",
      "\n",
      "\n"
     ]
    }
   ],
   "source": [
    "# test it using the df_test dataframe\n",
    "df_test['prediction'] = df_test['SMS'].apply(predict_spam)\n",
    "\n",
    "for index, row in df_test.iterrows():\n",
    "    print(\"SMS: \", row['SMS'])\n",
    "    print(\"Actual: \", row['label'])\n",
    "    print(\"Prediction: \", row['prediction'])\n",
    "    print(\"\\n\")"
   ]
  },
  {
   "cell_type": "code",
   "execution_count": null,
   "metadata": {},
   "outputs": [],
   "source": []
  }
 ],
 "metadata": {
  "kernelspec": {
   "display_name": "Python 3",
   "language": "python",
   "name": "python3"
  },
  "language_info": {
   "codemirror_mode": {
    "name": "ipython",
    "version": 3
   },
   "file_extension": ".py",
   "mimetype": "text/x-python",
   "name": "python",
   "nbconvert_exporter": "python",
   "pygments_lexer": "ipython3",
   "version": "3.11.6"
  }
 },
 "nbformat": 4,
 "nbformat_minor": 2
}
