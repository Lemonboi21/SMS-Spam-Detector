{
 "cells": [
  {
   "cell_type": "markdown",
   "metadata": {},
   "source": [
    "# 1. Data gathering"
   ]
  },
  {
   "cell_type": "code",
   "execution_count": 378,
   "metadata": {},
   "outputs": [
    {
     "name": "stdout",
     "output_type": "stream",
     "text": [
      "PH Spam + Marketing SMS (w timestamps)\n",
      "Philippine Spam Scam SMS\n",
      "SMS Spam Collection Dataset\n",
      "SMS SPAM DATASET (10286 rows)\n",
      "Spam Dataset\n"
     ]
    }
   ],
   "source": [
    "# open the csv files inside every folder in the datasets folder\n",
    "\n",
    "import os\n",
    "import pandas as pd\n",
    "\n",
    "for file in os.listdir('datasets'):\n",
    "    print(file)"
   ]
  },
  {
   "cell_type": "code",
   "execution_count": 379,
   "metadata": {},
   "outputs": [],
   "source": [
    "df1 = pd.read_csv('datasets/PH Spam + Marketing SMS (w timestamps)/text-messages.csv')\n",
    "df2 = pd.read_csv('datasets/Philippine Spam Scam SMS/SPAM_SMS.csv')\n",
    "df3 = pd.read_csv('datasets/SMS Spam Collection Dataset/spam.csv', encoding = \"ISO-8859-1\")\n",
    "df4 = pd.read_csv('datasets/SMS SPAM DATASET (10286 rows)/combined_dataset.csv')\n",
    "df5 = pd.read_csv('datasets/Spam Dataset/spam.csv')"
   ]
  },
  {
   "cell_type": "code",
   "execution_count": 380,
   "metadata": {},
   "outputs": [
    {
     "name": "stdout",
     "output_type": "stream",
     "text": [
      "dataset 1:\n",
      "Index(['date-received', 'date-read', 'sender', 'category', 'text'], dtype='object')\n",
      "-----------------------------------------\n",
      "dataset 2:\n",
      "Index(['masked_celphone_number', 'hashed_celphone_number', 'date', 'text',\n",
      "       'carrier'],\n",
      "      dtype='object')\n",
      "-----------------------------------------\n",
      "dataset 3:\n",
      "Index(['v1', 'v2', 'Unnamed: 2', 'Unnamed: 3', 'Unnamed: 4'], dtype='object')\n",
      "-----------------------------------------\n",
      "dataset 4:\n",
      "Index(['target', 'text'], dtype='object')\n",
      "-----------------------------------------\n",
      "dataset 5:\n",
      "Index(['v1', 'v2'], dtype='object')\n"
     ]
    }
   ],
   "source": [
    "# the columns of the datasets\n",
    "print(\"dataset 1:\")\n",
    "print(df1.columns)\n",
    "print(\"-----------------------------------------\")\n",
    "print(\"dataset 2:\")\n",
    "print(df2.columns)\n",
    "print(\"-----------------------------------------\")\n",
    "print(\"dataset 3:\")\n",
    "print(df3.columns)\n",
    "print(\"-----------------------------------------\")\n",
    "print(\"dataset 4:\")\n",
    "print(df4.columns)\n",
    "print(\"-----------------------------------------\")\n",
    "print(\"dataset 5:\")\n",
    "print(df5.columns)"
   ]
  },
  {
   "cell_type": "code",
   "execution_count": 381,
   "metadata": {},
   "outputs": [
    {
     "name": "stdout",
     "output_type": "stream",
     "text": [
      "dataset 1:  (4177, 5)\n",
      "dataset 2:  (846, 5)\n",
      "dataset 3:  (5572, 5)\n",
      "dataset 4:  (10961, 2)\n",
      "dataset 5:  (1000, 2)\n"
     ]
    }
   ],
   "source": [
    "# the shape of the datasets\n",
    "print(\"dataset 1: \", df1.shape)\n",
    "print(\"dataset 2: \", df2.shape)\n",
    "print(\"dataset 3: \", df3.shape)\n",
    "print(\"dataset 4: \", df4.shape)\n",
    "print(\"dataset 5: \", df5.shape)\n"
   ]
  },
  {
   "cell_type": "code",
   "execution_count": 382,
   "metadata": {},
   "outputs": [
    {
     "data": {
      "text/html": [
       "<div>\n",
       "<style scoped>\n",
       "    .dataframe tbody tr th:only-of-type {\n",
       "        vertical-align: middle;\n",
       "    }\n",
       "\n",
       "    .dataframe tbody tr th {\n",
       "        vertical-align: top;\n",
       "    }\n",
       "\n",
       "    .dataframe thead th {\n",
       "        text-align: right;\n",
       "    }\n",
       "</style>\n",
       "<table border=\"1\" class=\"dataframe\">\n",
       "  <thead>\n",
       "    <tr style=\"text-align: right;\">\n",
       "      <th></th>\n",
       "      <th>date-received</th>\n",
       "      <th>date-read</th>\n",
       "      <th>sender</th>\n",
       "      <th>category</th>\n",
       "      <th>text</th>\n",
       "    </tr>\n",
       "  </thead>\n",
       "  <tbody>\n",
       "    <tr>\n",
       "      <th>0</th>\n",
       "      <td>2024-02-05 18:11:17</td>\n",
       "      <td>2024-02-05 18:11:24</td>\n",
       "      <td>+6390998***20</td>\n",
       "      <td>spam</td>\n",
       "      <td>Make money while watching YouTube, earn 500P p...</td>\n",
       "    </tr>\n",
       "    <tr>\n",
       "      <th>1</th>\n",
       "      <td>2023-03-28 16:28:37</td>\n",
       "      <td>2023-03-28 16:28:48</td>\n",
       "      <td>GCash</td>\n",
       "      <td>ads</td>\n",
       "      <td>Get up to P125K extra funds for emergencies wi...</td>\n",
       "    </tr>\n",
       "    <tr>\n",
       "      <th>2</th>\n",
       "      <td>2023-03-29 16:45:31</td>\n",
       "      <td>2023-03-29 16:45:38</td>\n",
       "      <td>GCash</td>\n",
       "      <td>notifs</td>\n",
       "      <td>&lt;REDACTED&gt;</td>\n",
       "    </tr>\n",
       "    <tr>\n",
       "      <th>3</th>\n",
       "      <td>2023-03-29 17:17:32</td>\n",
       "      <td>2023-03-29 17:17:43</td>\n",
       "      <td>GCash</td>\n",
       "      <td>notifs</td>\n",
       "      <td>&lt;REDACTED&gt;</td>\n",
       "    </tr>\n",
       "    <tr>\n",
       "      <th>4</th>\n",
       "      <td>2023-03-30 10:16:02</td>\n",
       "      <td>2023-03-30 10:16:03</td>\n",
       "      <td>GCash</td>\n",
       "      <td>OTP</td>\n",
       "      <td>&lt;REDACTED&gt;</td>\n",
       "    </tr>\n",
       "  </tbody>\n",
       "</table>\n",
       "</div>"
      ],
      "text/plain": [
       "         date-received            date-read         sender category  \\\n",
       "0  2024-02-05 18:11:17  2024-02-05 18:11:24  +6390998***20     spam   \n",
       "1  2023-03-28 16:28:37  2023-03-28 16:28:48          GCash      ads   \n",
       "2  2023-03-29 16:45:31  2023-03-29 16:45:38          GCash   notifs   \n",
       "3  2023-03-29 17:17:32  2023-03-29 17:17:43          GCash   notifs   \n",
       "4  2023-03-30 10:16:02  2023-03-30 10:16:03          GCash      OTP   \n",
       "\n",
       "                                                text  \n",
       "0  Make money while watching YouTube, earn 500P p...  \n",
       "1  Get up to P125K extra funds for emergencies wi...  \n",
       "2                                         <REDACTED>  \n",
       "3                                         <REDACTED>  \n",
       "4                                         <REDACTED>  "
      ]
     },
     "execution_count": 382,
     "metadata": {},
     "output_type": "execute_result"
    }
   ],
   "source": [
    "df1.head()"
   ]
  },
  {
   "cell_type": "code",
   "execution_count": 383,
   "metadata": {},
   "outputs": [
    {
     "data": {
      "text/html": [
       "<div>\n",
       "<style scoped>\n",
       "    .dataframe tbody tr th:only-of-type {\n",
       "        vertical-align: middle;\n",
       "    }\n",
       "\n",
       "    .dataframe tbody tr th {\n",
       "        vertical-align: top;\n",
       "    }\n",
       "\n",
       "    .dataframe thead th {\n",
       "        text-align: right;\n",
       "    }\n",
       "</style>\n",
       "<table border=\"1\" class=\"dataframe\">\n",
       "  <thead>\n",
       "    <tr style=\"text-align: right;\">\n",
       "      <th></th>\n",
       "      <th>masked_celphone_number</th>\n",
       "      <th>hashed_celphone_number</th>\n",
       "      <th>date</th>\n",
       "      <th>text</th>\n",
       "      <th>carrier</th>\n",
       "    </tr>\n",
       "  </thead>\n",
       "  <tbody>\n",
       "    <tr>\n",
       "      <th>0</th>\n",
       "      <td>+63998****809</td>\n",
       "      <td>6c8cee87-7025-3b11-b7f4-2445f62c2e8c</td>\n",
       "      <td>2018-01-23 04:46:26.719</td>\n",
       "      <td>A new and \"Green\" township will be rising in t...</td>\n",
       "      <td>Smart</td>\n",
       "    </tr>\n",
       "    <tr>\n",
       "      <th>1</th>\n",
       "      <td>+63908****673</td>\n",
       "      <td>5a59adcb-ba3d-3b04-8dcc-3e39cc3f4974</td>\n",
       "      <td>2018-01-24 12:44:09.178</td>\n",
       "      <td>New OFFICE space for sale in Ortigas Avenue ne...</td>\n",
       "      <td>Smart</td>\n",
       "    </tr>\n",
       "    <tr>\n",
       "      <th>2</th>\n",
       "      <td>+63917****194</td>\n",
       "      <td>a14c754f-80b2-3797-8dde-0c3232e2d1df</td>\n",
       "      <td>2018-02-01 20:55:48.554</td>\n",
       "      <td>Celebrate the season of love with a sweet stay...</td>\n",
       "      <td>Globe PostPaid</td>\n",
       "    </tr>\n",
       "    <tr>\n",
       "      <th>3</th>\n",
       "      <td>+63920****952</td>\n",
       "      <td>132b9c54-4f79-33c3-b442-12d2318fb5d5</td>\n",
       "      <td>2018-02-28 10:37:26.541</td>\n",
       "      <td>Shangri-La Updates:\\n\\nRISEmakati\\n\\n-One-of-a...</td>\n",
       "      <td>Smart</td>\n",
       "    </tr>\n",
       "    <tr>\n",
       "      <th>4</th>\n",
       "      <td>+63907****270</td>\n",
       "      <td>28d44ab6-02a5-3eb6-8037-db43abbe8a47</td>\n",
       "      <td>2018-03-07 06:28:35.858</td>\n",
       "      <td>Co in Makati needs Software Java Developer, kn...</td>\n",
       "      <td>TNT</td>\n",
       "    </tr>\n",
       "  </tbody>\n",
       "</table>\n",
       "</div>"
      ],
      "text/plain": [
       "  masked_celphone_number                hashed_celphone_number  \\\n",
       "0          +63998****809  6c8cee87-7025-3b11-b7f4-2445f62c2e8c   \n",
       "1          +63908****673  5a59adcb-ba3d-3b04-8dcc-3e39cc3f4974   \n",
       "2          +63917****194  a14c754f-80b2-3797-8dde-0c3232e2d1df   \n",
       "3          +63920****952  132b9c54-4f79-33c3-b442-12d2318fb5d5   \n",
       "4          +63907****270  28d44ab6-02a5-3eb6-8037-db43abbe8a47   \n",
       "\n",
       "                      date                                               text  \\\n",
       "0  2018-01-23 04:46:26.719  A new and \"Green\" township will be rising in t...   \n",
       "1  2018-01-24 12:44:09.178  New OFFICE space for sale in Ortigas Avenue ne...   \n",
       "2  2018-02-01 20:55:48.554  Celebrate the season of love with a sweet stay...   \n",
       "3  2018-02-28 10:37:26.541  Shangri-La Updates:\\n\\nRISEmakati\\n\\n-One-of-a...   \n",
       "4  2018-03-07 06:28:35.858  Co in Makati needs Software Java Developer, kn...   \n",
       "\n",
       "          carrier  \n",
       "0           Smart  \n",
       "1           Smart  \n",
       "2  Globe PostPaid  \n",
       "3           Smart  \n",
       "4             TNT  "
      ]
     },
     "execution_count": 383,
     "metadata": {},
     "output_type": "execute_result"
    }
   ],
   "source": [
    "df2.head()"
   ]
  },
  {
   "cell_type": "code",
   "execution_count": 384,
   "metadata": {},
   "outputs": [
    {
     "data": {
      "text/html": [
       "<div>\n",
       "<style scoped>\n",
       "    .dataframe tbody tr th:only-of-type {\n",
       "        vertical-align: middle;\n",
       "    }\n",
       "\n",
       "    .dataframe tbody tr th {\n",
       "        vertical-align: top;\n",
       "    }\n",
       "\n",
       "    .dataframe thead th {\n",
       "        text-align: right;\n",
       "    }\n",
       "</style>\n",
       "<table border=\"1\" class=\"dataframe\">\n",
       "  <thead>\n",
       "    <tr style=\"text-align: right;\">\n",
       "      <th></th>\n",
       "      <th>v1</th>\n",
       "      <th>v2</th>\n",
       "      <th>Unnamed: 2</th>\n",
       "      <th>Unnamed: 3</th>\n",
       "      <th>Unnamed: 4</th>\n",
       "    </tr>\n",
       "  </thead>\n",
       "  <tbody>\n",
       "    <tr>\n",
       "      <th>0</th>\n",
       "      <td>ham</td>\n",
       "      <td>Go until jurong point, crazy.. Available only ...</td>\n",
       "      <td>NaN</td>\n",
       "      <td>NaN</td>\n",
       "      <td>NaN</td>\n",
       "    </tr>\n",
       "    <tr>\n",
       "      <th>1</th>\n",
       "      <td>ham</td>\n",
       "      <td>Ok lar... Joking wif u oni...</td>\n",
       "      <td>NaN</td>\n",
       "      <td>NaN</td>\n",
       "      <td>NaN</td>\n",
       "    </tr>\n",
       "    <tr>\n",
       "      <th>2</th>\n",
       "      <td>spam</td>\n",
       "      <td>Free entry in 2 a wkly comp to win FA Cup fina...</td>\n",
       "      <td>NaN</td>\n",
       "      <td>NaN</td>\n",
       "      <td>NaN</td>\n",
       "    </tr>\n",
       "    <tr>\n",
       "      <th>3</th>\n",
       "      <td>ham</td>\n",
       "      <td>U dun say so early hor... U c already then say...</td>\n",
       "      <td>NaN</td>\n",
       "      <td>NaN</td>\n",
       "      <td>NaN</td>\n",
       "    </tr>\n",
       "    <tr>\n",
       "      <th>4</th>\n",
       "      <td>ham</td>\n",
       "      <td>Nah I don't think he goes to usf, he lives aro...</td>\n",
       "      <td>NaN</td>\n",
       "      <td>NaN</td>\n",
       "      <td>NaN</td>\n",
       "    </tr>\n",
       "  </tbody>\n",
       "</table>\n",
       "</div>"
      ],
      "text/plain": [
       "     v1                                                 v2 Unnamed: 2  \\\n",
       "0   ham  Go until jurong point, crazy.. Available only ...        NaN   \n",
       "1   ham                      Ok lar... Joking wif u oni...        NaN   \n",
       "2  spam  Free entry in 2 a wkly comp to win FA Cup fina...        NaN   \n",
       "3   ham  U dun say so early hor... U c already then say...        NaN   \n",
       "4   ham  Nah I don't think he goes to usf, he lives aro...        NaN   \n",
       "\n",
       "  Unnamed: 3 Unnamed: 4  \n",
       "0        NaN        NaN  \n",
       "1        NaN        NaN  \n",
       "2        NaN        NaN  \n",
       "3        NaN        NaN  \n",
       "4        NaN        NaN  "
      ]
     },
     "execution_count": 384,
     "metadata": {},
     "output_type": "execute_result"
    }
   ],
   "source": [
    "df3.head()"
   ]
  },
  {
   "cell_type": "code",
   "execution_count": 385,
   "metadata": {},
   "outputs": [
    {
     "data": {
      "text/html": [
       "<div>\n",
       "<style scoped>\n",
       "    .dataframe tbody tr th:only-of-type {\n",
       "        vertical-align: middle;\n",
       "    }\n",
       "\n",
       "    .dataframe tbody tr th {\n",
       "        vertical-align: top;\n",
       "    }\n",
       "\n",
       "    .dataframe thead th {\n",
       "        text-align: right;\n",
       "    }\n",
       "</style>\n",
       "<table border=\"1\" class=\"dataframe\">\n",
       "  <thead>\n",
       "    <tr style=\"text-align: right;\">\n",
       "      <th></th>\n",
       "      <th>target</th>\n",
       "      <th>text</th>\n",
       "    </tr>\n",
       "  </thead>\n",
       "  <tbody>\n",
       "    <tr>\n",
       "      <th>0</th>\n",
       "      <td>spam</td>\n",
       "      <td>Congratulations! You've been selected for a lu...</td>\n",
       "    </tr>\n",
       "    <tr>\n",
       "      <th>1</th>\n",
       "      <td>spam</td>\n",
       "      <td>URGENT: Your account has been compromised. Cli...</td>\n",
       "    </tr>\n",
       "    <tr>\n",
       "      <th>2</th>\n",
       "      <td>spam</td>\n",
       "      <td>You've won a free iPhone! Claim your prize by ...</td>\n",
       "    </tr>\n",
       "    <tr>\n",
       "      <th>3</th>\n",
       "      <td>spam</td>\n",
       "      <td>Act now and receive a 50% discount on all purc...</td>\n",
       "    </tr>\n",
       "    <tr>\n",
       "      <th>4</th>\n",
       "      <td>spam</td>\n",
       "      <td>Important notice: Your subscription will expir...</td>\n",
       "    </tr>\n",
       "  </tbody>\n",
       "</table>\n",
       "</div>"
      ],
      "text/plain": [
       "  target                                               text\n",
       "0   spam  Congratulations! You've been selected for a lu...\n",
       "1   spam  URGENT: Your account has been compromised. Cli...\n",
       "2   spam  You've won a free iPhone! Claim your prize by ...\n",
       "3   spam  Act now and receive a 50% discount on all purc...\n",
       "4   spam  Important notice: Your subscription will expir..."
      ]
     },
     "execution_count": 385,
     "metadata": {},
     "output_type": "execute_result"
    }
   ],
   "source": [
    "df4.head()"
   ]
  },
  {
   "cell_type": "code",
   "execution_count": 386,
   "metadata": {},
   "outputs": [
    {
     "data": {
      "text/html": [
       "<div>\n",
       "<style scoped>\n",
       "    .dataframe tbody tr th:only-of-type {\n",
       "        vertical-align: middle;\n",
       "    }\n",
       "\n",
       "    .dataframe tbody tr th {\n",
       "        vertical-align: top;\n",
       "    }\n",
       "\n",
       "    .dataframe thead th {\n",
       "        text-align: right;\n",
       "    }\n",
       "</style>\n",
       "<table border=\"1\" class=\"dataframe\">\n",
       "  <thead>\n",
       "    <tr style=\"text-align: right;\">\n",
       "      <th></th>\n",
       "      <th>v1</th>\n",
       "      <th>v2</th>\n",
       "    </tr>\n",
       "  </thead>\n",
       "  <tbody>\n",
       "    <tr>\n",
       "      <th>0</th>\n",
       "      <td>ham</td>\n",
       "      <td>SMS services. Your subscription is renewed</td>\n",
       "    </tr>\n",
       "    <tr>\n",
       "      <th>1</th>\n",
       "      <td>ham</td>\n",
       "      <td>SMS services. Your subscription is renewed</td>\n",
       "    </tr>\n",
       "    <tr>\n",
       "      <th>2</th>\n",
       "      <td>ham</td>\n",
       "      <td>Limited time offer! Get it now!</td>\n",
       "    </tr>\n",
       "    <tr>\n",
       "      <th>3</th>\n",
       "      <td>ham</td>\n",
       "      <td>Your chance to win a new iPhone! Click here now</td>\n",
       "    </tr>\n",
       "    <tr>\n",
       "      <th>4</th>\n",
       "      <td>ham</td>\n",
       "      <td>Congratulations! Thanks to a good friend</td>\n",
       "    </tr>\n",
       "  </tbody>\n",
       "</table>\n",
       "</div>"
      ],
      "text/plain": [
       "    v1                                               v2\n",
       "0  ham       SMS services. Your subscription is renewed\n",
       "1  ham       SMS services. Your subscription is renewed\n",
       "2  ham                  Limited time offer! Get it now!\n",
       "3  ham  Your chance to win a new iPhone! Click here now\n",
       "4  ham         Congratulations! Thanks to a good friend"
      ]
     },
     "execution_count": 386,
     "metadata": {},
     "output_type": "execute_result"
    }
   ],
   "source": [
    "df5.head()"
   ]
  },
  {
   "cell_type": "markdown",
   "metadata": {},
   "source": [
    "# 2. Data preprocessing"
   ]
  },
  {
   "cell_type": "code",
   "execution_count": 387,
   "metadata": {},
   "outputs": [
    {
     "data": {
      "text/html": [
       "<div>\n",
       "<style scoped>\n",
       "    .dataframe tbody tr th:only-of-type {\n",
       "        vertical-align: middle;\n",
       "    }\n",
       "\n",
       "    .dataframe tbody tr th {\n",
       "        vertical-align: top;\n",
       "    }\n",
       "\n",
       "    .dataframe thead th {\n",
       "        text-align: right;\n",
       "    }\n",
       "</style>\n",
       "<table border=\"1\" class=\"dataframe\">\n",
       "  <thead>\n",
       "    <tr style=\"text-align: right;\">\n",
       "      <th></th>\n",
       "      <th>label</th>\n",
       "      <th>SMS</th>\n",
       "    </tr>\n",
       "  </thead>\n",
       "  <tbody>\n",
       "    <tr>\n",
       "      <th>0</th>\n",
       "      <td>spam</td>\n",
       "      <td>Make money while watching YouTube, earn 500P p...</td>\n",
       "    </tr>\n",
       "    <tr>\n",
       "      <th>1</th>\n",
       "      <td>ads</td>\n",
       "      <td>Get up to P125K extra funds for emergencies wi...</td>\n",
       "    </tr>\n",
       "    <tr>\n",
       "      <th>2</th>\n",
       "      <td>notifs</td>\n",
       "      <td>&lt;REDACTED&gt;</td>\n",
       "    </tr>\n",
       "    <tr>\n",
       "      <th>3</th>\n",
       "      <td>notifs</td>\n",
       "      <td>&lt;REDACTED&gt;</td>\n",
       "    </tr>\n",
       "    <tr>\n",
       "      <th>4</th>\n",
       "      <td>OTP</td>\n",
       "      <td>&lt;REDACTED&gt;</td>\n",
       "    </tr>\n",
       "    <tr>\n",
       "      <th>...</th>\n",
       "      <td>...</td>\n",
       "      <td>...</td>\n",
       "    </tr>\n",
       "    <tr>\n",
       "      <th>4172</th>\n",
       "      <td>gov</td>\n",
       "      <td>Pwede ng ma-access ang iba't ibang government ...</td>\n",
       "    </tr>\n",
       "    <tr>\n",
       "      <th>4173</th>\n",
       "      <td>gov</td>\n",
       "      <td>Pwede ng ma-access ang iba't ibang government ...</td>\n",
       "    </tr>\n",
       "    <tr>\n",
       "      <th>4174</th>\n",
       "      <td>gov</td>\n",
       "      <td>Pwede ng ma-access ang iba't ibang government ...</td>\n",
       "    </tr>\n",
       "    <tr>\n",
       "      <th>4175</th>\n",
       "      <td>gov</td>\n",
       "      <td>Pwede ng ma-access ang iba't ibang government ...</td>\n",
       "    </tr>\n",
       "    <tr>\n",
       "      <th>4176</th>\n",
       "      <td>gov</td>\n",
       "      <td>Pwede ng ma-access ang iba't ibang government ...</td>\n",
       "    </tr>\n",
       "  </tbody>\n",
       "</table>\n",
       "<p>4177 rows × 2 columns</p>\n",
       "</div>"
      ],
      "text/plain": [
       "       label                                                SMS\n",
       "0       spam  Make money while watching YouTube, earn 500P p...\n",
       "1        ads  Get up to P125K extra funds for emergencies wi...\n",
       "2     notifs                                         <REDACTED>\n",
       "3     notifs                                         <REDACTED>\n",
       "4        OTP                                         <REDACTED>\n",
       "...      ...                                                ...\n",
       "4172     gov  Pwede ng ma-access ang iba't ibang government ...\n",
       "4173     gov  Pwede ng ma-access ang iba't ibang government ...\n",
       "4174     gov  Pwede ng ma-access ang iba't ibang government ...\n",
       "4175     gov  Pwede ng ma-access ang iba't ibang government ...\n",
       "4176     gov  Pwede ng ma-access ang iba't ibang government ...\n",
       "\n",
       "[4177 rows x 2 columns]"
      ]
     },
     "execution_count": 387,
     "metadata": {},
     "output_type": "execute_result"
    }
   ],
   "source": [
    "# cleaning the datasets\n",
    "\n",
    "\n",
    "#keep only the text and category column\n",
    "df1 = df1[['category', 'text']]\n",
    "\n",
    "# changeing the column names to SMS and label\n",
    "df1.columns = ['label', 'SMS']\n",
    "\n",
    "df1"
   ]
  },
  {
   "cell_type": "code",
   "execution_count": 388,
   "metadata": {},
   "outputs": [
    {
     "data": {
      "text/html": [
       "<div>\n",
       "<style scoped>\n",
       "    .dataframe tbody tr th:only-of-type {\n",
       "        vertical-align: middle;\n",
       "    }\n",
       "\n",
       "    .dataframe tbody tr th {\n",
       "        vertical-align: top;\n",
       "    }\n",
       "\n",
       "    .dataframe thead th {\n",
       "        text-align: right;\n",
       "    }\n",
       "</style>\n",
       "<table border=\"1\" class=\"dataframe\">\n",
       "  <thead>\n",
       "    <tr style=\"text-align: right;\">\n",
       "      <th></th>\n",
       "      <th>SMS</th>\n",
       "      <th>label</th>\n",
       "    </tr>\n",
       "  </thead>\n",
       "  <tbody>\n",
       "    <tr>\n",
       "      <th>0</th>\n",
       "      <td>A new and \"Green\" township will be rising in t...</td>\n",
       "      <td>1</td>\n",
       "    </tr>\n",
       "    <tr>\n",
       "      <th>1</th>\n",
       "      <td>New OFFICE space for sale in Ortigas Avenue ne...</td>\n",
       "      <td>1</td>\n",
       "    </tr>\n",
       "    <tr>\n",
       "      <th>2</th>\n",
       "      <td>Celebrate the season of love with a sweet stay...</td>\n",
       "      <td>1</td>\n",
       "    </tr>\n",
       "    <tr>\n",
       "      <th>3</th>\n",
       "      <td>Shangri-La Updates:\\n\\nRISEmakati\\n\\n-One-of-a...</td>\n",
       "      <td>1</td>\n",
       "    </tr>\n",
       "    <tr>\n",
       "      <th>4</th>\n",
       "      <td>Co in Makati needs Software Java Developer, kn...</td>\n",
       "      <td>1</td>\n",
       "    </tr>\n",
       "    <tr>\n",
       "      <th>...</th>\n",
       "      <td>...</td>\n",
       "      <td>...</td>\n",
       "    </tr>\n",
       "    <tr>\n",
       "      <th>841</th>\n",
       "      <td>Your domestic  parcel tracking code RR*-16PH i...</td>\n",
       "      <td>1</td>\n",
       "    </tr>\n",
       "    <tr>\n",
       "      <th>842</th>\n",
       "      <td>Your domestic  parcel tracking code RR*-16PH i...</td>\n",
       "      <td>1</td>\n",
       "    </tr>\n",
       "    <tr>\n",
       "      <th>843</th>\n",
       "      <td>Hi,&lt;REAL NAME&gt;! Gusto mo ba ng 18-888 raffle t...</td>\n",
       "      <td>1</td>\n",
       "    </tr>\n",
       "    <tr>\n",
       "      <th>844</th>\n",
       "      <td>fg.ss777b.fo New member download to get P2268 ...</td>\n",
       "      <td>1</td>\n",
       "    </tr>\n",
       "    <tr>\n",
       "      <th>845</th>\n",
       "      <td>Super Welcome bonus hanggang 3000 pesos ang ma...</td>\n",
       "      <td>1</td>\n",
       "    </tr>\n",
       "  </tbody>\n",
       "</table>\n",
       "<p>846 rows × 2 columns</p>\n",
       "</div>"
      ],
      "text/plain": [
       "                                                   SMS  label\n",
       "0    A new and \"Green\" township will be rising in t...      1\n",
       "1    New OFFICE space for sale in Ortigas Avenue ne...      1\n",
       "2    Celebrate the season of love with a sweet stay...      1\n",
       "3    Shangri-La Updates:\\n\\nRISEmakati\\n\\n-One-of-a...      1\n",
       "4    Co in Makati needs Software Java Developer, kn...      1\n",
       "..                                                 ...    ...\n",
       "841  Your domestic  parcel tracking code RR*-16PH i...      1\n",
       "842  Your domestic  parcel tracking code RR*-16PH i...      1\n",
       "843  Hi,<REAL NAME>! Gusto mo ba ng 18-888 raffle t...      1\n",
       "844  fg.ss777b.fo New member download to get P2268 ...      1\n",
       "845  Super Welcome bonus hanggang 3000 pesos ang ma...      1\n",
       "\n",
       "[846 rows x 2 columns]"
      ]
     },
     "execution_count": 388,
     "metadata": {},
     "output_type": "execute_result"
    }
   ],
   "source": [
    "# Dataset 2\n",
    "# Index(['masked_celphone_number', 'hashed_celphone_number', 'date', 'text','carrier'],dtype='object')\n",
    "\n",
    "# keep only the text column\n",
    "df2 = df2[['text']]\n",
    "\n",
    "# add a label column with the value 1\n",
    "df2['label'] = 1\n",
    "\n",
    "# change the column names to SMS and label\n",
    "df2.columns = ['SMS', 'label']\n",
    "\n",
    "df2\n"
   ]
  },
  {
   "cell_type": "code",
   "execution_count": 389,
   "metadata": {},
   "outputs": [
    {
     "data": {
      "text/html": [
       "<div>\n",
       "<style scoped>\n",
       "    .dataframe tbody tr th:only-of-type {\n",
       "        vertical-align: middle;\n",
       "    }\n",
       "\n",
       "    .dataframe tbody tr th {\n",
       "        vertical-align: top;\n",
       "    }\n",
       "\n",
       "    .dataframe thead th {\n",
       "        text-align: right;\n",
       "    }\n",
       "</style>\n",
       "<table border=\"1\" class=\"dataframe\">\n",
       "  <thead>\n",
       "    <tr style=\"text-align: right;\">\n",
       "      <th></th>\n",
       "      <th>label</th>\n",
       "      <th>SMS</th>\n",
       "    </tr>\n",
       "  </thead>\n",
       "  <tbody>\n",
       "    <tr>\n",
       "      <th>0</th>\n",
       "      <td>ham</td>\n",
       "      <td>Go until jurong point, crazy.. Available only ...</td>\n",
       "    </tr>\n",
       "    <tr>\n",
       "      <th>1</th>\n",
       "      <td>ham</td>\n",
       "      <td>Ok lar... Joking wif u oni...</td>\n",
       "    </tr>\n",
       "    <tr>\n",
       "      <th>2</th>\n",
       "      <td>spam</td>\n",
       "      <td>Free entry in 2 a wkly comp to win FA Cup fina...</td>\n",
       "    </tr>\n",
       "    <tr>\n",
       "      <th>3</th>\n",
       "      <td>ham</td>\n",
       "      <td>U dun say so early hor... U c already then say...</td>\n",
       "    </tr>\n",
       "    <tr>\n",
       "      <th>4</th>\n",
       "      <td>ham</td>\n",
       "      <td>Nah I don't think he goes to usf, he lives aro...</td>\n",
       "    </tr>\n",
       "    <tr>\n",
       "      <th>...</th>\n",
       "      <td>...</td>\n",
       "      <td>...</td>\n",
       "    </tr>\n",
       "    <tr>\n",
       "      <th>5567</th>\n",
       "      <td>spam</td>\n",
       "      <td>This is the 2nd time we have tried 2 contact u...</td>\n",
       "    </tr>\n",
       "    <tr>\n",
       "      <th>5568</th>\n",
       "      <td>ham</td>\n",
       "      <td>Will Ì_ b going to esplanade fr home?</td>\n",
       "    </tr>\n",
       "    <tr>\n",
       "      <th>5569</th>\n",
       "      <td>ham</td>\n",
       "      <td>Pity, * was in mood for that. So...any other s...</td>\n",
       "    </tr>\n",
       "    <tr>\n",
       "      <th>5570</th>\n",
       "      <td>ham</td>\n",
       "      <td>The guy did some bitching but I acted like i'd...</td>\n",
       "    </tr>\n",
       "    <tr>\n",
       "      <th>5571</th>\n",
       "      <td>ham</td>\n",
       "      <td>Rofl. Its true to its name</td>\n",
       "    </tr>\n",
       "  </tbody>\n",
       "</table>\n",
       "<p>5572 rows × 2 columns</p>\n",
       "</div>"
      ],
      "text/plain": [
       "     label                                                SMS\n",
       "0      ham  Go until jurong point, crazy.. Available only ...\n",
       "1      ham                      Ok lar... Joking wif u oni...\n",
       "2     spam  Free entry in 2 a wkly comp to win FA Cup fina...\n",
       "3      ham  U dun say so early hor... U c already then say...\n",
       "4      ham  Nah I don't think he goes to usf, he lives aro...\n",
       "...    ...                                                ...\n",
       "5567  spam  This is the 2nd time we have tried 2 contact u...\n",
       "5568   ham              Will Ì_ b going to esplanade fr home?\n",
       "5569   ham  Pity, * was in mood for that. So...any other s...\n",
       "5570   ham  The guy did some bitching but I acted like i'd...\n",
       "5571   ham                         Rofl. Its true to its name\n",
       "\n",
       "[5572 rows x 2 columns]"
      ]
     },
     "execution_count": 389,
     "metadata": {},
     "output_type": "execute_result"
    }
   ],
   "source": [
    "# Dataset 3\n",
    "# Index(['v1', 'v2', 'Unnamed: 2', 'Unnamed: 3', 'Unnamed: 4'], dtype='object')\n",
    "\n",
    "# keep only the v1 and v2 columns\n",
    "df3 = df3[['v1', 'v2']]\n",
    "\n",
    "# change the column names to label and SMS\n",
    "df3.columns = ['label', 'SMS']\n",
    "\n",
    "df3"
   ]
  },
  {
   "cell_type": "code",
   "execution_count": 390,
   "metadata": {},
   "outputs": [
    {
     "data": {
      "text/html": [
       "<div>\n",
       "<style scoped>\n",
       "    .dataframe tbody tr th:only-of-type {\n",
       "        vertical-align: middle;\n",
       "    }\n",
       "\n",
       "    .dataframe tbody tr th {\n",
       "        vertical-align: top;\n",
       "    }\n",
       "\n",
       "    .dataframe thead th {\n",
       "        text-align: right;\n",
       "    }\n",
       "</style>\n",
       "<table border=\"1\" class=\"dataframe\">\n",
       "  <thead>\n",
       "    <tr style=\"text-align: right;\">\n",
       "      <th></th>\n",
       "      <th>label</th>\n",
       "      <th>SMS</th>\n",
       "    </tr>\n",
       "  </thead>\n",
       "  <tbody>\n",
       "    <tr>\n",
       "      <th>0</th>\n",
       "      <td>spam</td>\n",
       "      <td>Congratulations! You've been selected for a lu...</td>\n",
       "    </tr>\n",
       "    <tr>\n",
       "      <th>1</th>\n",
       "      <td>spam</td>\n",
       "      <td>URGENT: Your account has been compromised. Cli...</td>\n",
       "    </tr>\n",
       "    <tr>\n",
       "      <th>2</th>\n",
       "      <td>spam</td>\n",
       "      <td>You've won a free iPhone! Claim your prize by ...</td>\n",
       "    </tr>\n",
       "    <tr>\n",
       "      <th>3</th>\n",
       "      <td>spam</td>\n",
       "      <td>Act now and receive a 50% discount on all purc...</td>\n",
       "    </tr>\n",
       "    <tr>\n",
       "      <th>4</th>\n",
       "      <td>spam</td>\n",
       "      <td>Important notice: Your subscription will expir...</td>\n",
       "    </tr>\n",
       "    <tr>\n",
       "      <th>...</th>\n",
       "      <td>...</td>\n",
       "      <td>...</td>\n",
       "    </tr>\n",
       "    <tr>\n",
       "      <th>10956</th>\n",
       "      <td>spam</td>\n",
       "      <td>Hey little one! Exciting news! Mama and baby a...</td>\n",
       "    </tr>\n",
       "    <tr>\n",
       "      <th>10957</th>\n",
       "      <td>spam</td>\n",
       "      <td>Amazing DATA deals on your Pulse Plan today! D...</td>\n",
       "    </tr>\n",
       "    <tr>\n",
       "      <th>10958</th>\n",
       "      <td>spam</td>\n",
       "      <td>Special offer just for you! Get 1GB @15 bob va...</td>\n",
       "    </tr>\n",
       "    <tr>\n",
       "      <th>10959</th>\n",
       "      <td>spam</td>\n",
       "      <td>NEW ARRIVAL - JUNE 23RD  Dresses @ 300; Kondel...</td>\n",
       "    </tr>\n",
       "    <tr>\n",
       "      <th>10960</th>\n",
       "      <td>spam</td>\n",
       "      <td>Coureen, did you know that saving on Timiza in...</td>\n",
       "    </tr>\n",
       "  </tbody>\n",
       "</table>\n",
       "<p>10961 rows × 2 columns</p>\n",
       "</div>"
      ],
      "text/plain": [
       "      label                                                SMS\n",
       "0      spam  Congratulations! You've been selected for a lu...\n",
       "1      spam  URGENT: Your account has been compromised. Cli...\n",
       "2      spam  You've won a free iPhone! Claim your prize by ...\n",
       "3      spam  Act now and receive a 50% discount on all purc...\n",
       "4      spam  Important notice: Your subscription will expir...\n",
       "...     ...                                                ...\n",
       "10956  spam  Hey little one! Exciting news! Mama and baby a...\n",
       "10957  spam  Amazing DATA deals on your Pulse Plan today! D...\n",
       "10958  spam  Special offer just for you! Get 1GB @15 bob va...\n",
       "10959  spam  NEW ARRIVAL - JUNE 23RD  Dresses @ 300; Kondel...\n",
       "10960  spam  Coureen, did you know that saving on Timiza in...\n",
       "\n",
       "[10961 rows x 2 columns]"
      ]
     },
     "execution_count": 390,
     "metadata": {},
     "output_type": "execute_result"
    }
   ],
   "source": [
    "# Dataset 4\n",
    "# Index(['target', 'text'], dtype='object')\n",
    "\n",
    "# change the column names to label and SMS\n",
    "df4.columns = ['label', 'SMS']\n",
    "\n",
    "df4"
   ]
  },
  {
   "cell_type": "code",
   "execution_count": 391,
   "metadata": {},
   "outputs": [
    {
     "data": {
      "text/html": [
       "<div>\n",
       "<style scoped>\n",
       "    .dataframe tbody tr th:only-of-type {\n",
       "        vertical-align: middle;\n",
       "    }\n",
       "\n",
       "    .dataframe tbody tr th {\n",
       "        vertical-align: top;\n",
       "    }\n",
       "\n",
       "    .dataframe thead th {\n",
       "        text-align: right;\n",
       "    }\n",
       "</style>\n",
       "<table border=\"1\" class=\"dataframe\">\n",
       "  <thead>\n",
       "    <tr style=\"text-align: right;\">\n",
       "      <th></th>\n",
       "      <th>label</th>\n",
       "      <th>SMS</th>\n",
       "    </tr>\n",
       "  </thead>\n",
       "  <tbody>\n",
       "    <tr>\n",
       "      <th>0</th>\n",
       "      <td>ham</td>\n",
       "      <td>SMS services. Your subscription is renewed</td>\n",
       "    </tr>\n",
       "    <tr>\n",
       "      <th>1</th>\n",
       "      <td>ham</td>\n",
       "      <td>SMS services. Your subscription is renewed</td>\n",
       "    </tr>\n",
       "    <tr>\n",
       "      <th>2</th>\n",
       "      <td>ham</td>\n",
       "      <td>Limited time offer! Get it now!</td>\n",
       "    </tr>\n",
       "    <tr>\n",
       "      <th>3</th>\n",
       "      <td>ham</td>\n",
       "      <td>Your chance to win a new iPhone! Click here now</td>\n",
       "    </tr>\n",
       "    <tr>\n",
       "      <th>4</th>\n",
       "      <td>ham</td>\n",
       "      <td>Congratulations! Thanks to a good friend</td>\n",
       "    </tr>\n",
       "    <tr>\n",
       "      <th>...</th>\n",
       "      <td>...</td>\n",
       "      <td>...</td>\n",
       "    </tr>\n",
       "    <tr>\n",
       "      <th>995</th>\n",
       "      <td>spam</td>\n",
       "      <td>Go until jurong point, crazy.. Available only</td>\n",
       "    </tr>\n",
       "    <tr>\n",
       "      <th>996</th>\n",
       "      <td>spam</td>\n",
       "      <td>You won't believe it but it's true. It's Incre...</td>\n",
       "    </tr>\n",
       "    <tr>\n",
       "      <th>997</th>\n",
       "      <td>spam</td>\n",
       "      <td>WINNER!! As a valued network customer</td>\n",
       "    </tr>\n",
       "    <tr>\n",
       "      <th>998</th>\n",
       "      <td>spam</td>\n",
       "      <td>SMS services. Your subscription is renewed</td>\n",
       "    </tr>\n",
       "    <tr>\n",
       "      <th>999</th>\n",
       "      <td>spam</td>\n",
       "      <td>Congratulations! Thanks to a good friend</td>\n",
       "    </tr>\n",
       "  </tbody>\n",
       "</table>\n",
       "<p>1000 rows × 2 columns</p>\n",
       "</div>"
      ],
      "text/plain": [
       "    label                                                SMS\n",
       "0     ham         SMS services. Your subscription is renewed\n",
       "1     ham         SMS services. Your subscription is renewed\n",
       "2     ham                    Limited time offer! Get it now!\n",
       "3     ham    Your chance to win a new iPhone! Click here now\n",
       "4     ham           Congratulations! Thanks to a good friend\n",
       "..    ...                                                ...\n",
       "995  spam      Go until jurong point, crazy.. Available only\n",
       "996  spam  You won't believe it but it's true. It's Incre...\n",
       "997  spam              WINNER!! As a valued network customer\n",
       "998  spam         SMS services. Your subscription is renewed\n",
       "999  spam           Congratulations! Thanks to a good friend\n",
       "\n",
       "[1000 rows x 2 columns]"
      ]
     },
     "execution_count": 391,
     "metadata": {},
     "output_type": "execute_result"
    }
   ],
   "source": [
    "# Dataset 5\n",
    "# Index(['v1', 'v2'], dtype='object')\n",
    "\n",
    "# change the column names to label and SMS\n",
    "df5.columns = ['label', 'SMS']\n",
    "\n",
    "df5"
   ]
  },
  {
   "cell_type": "code",
   "execution_count": 392,
   "metadata": {},
   "outputs": [
    {
     "data": {
      "text/html": [
       "<div>\n",
       "<style scoped>\n",
       "    .dataframe tbody tr th:only-of-type {\n",
       "        vertical-align: middle;\n",
       "    }\n",
       "\n",
       "    .dataframe tbody tr th {\n",
       "        vertical-align: top;\n",
       "    }\n",
       "\n",
       "    .dataframe thead th {\n",
       "        text-align: right;\n",
       "    }\n",
       "</style>\n",
       "<table border=\"1\" class=\"dataframe\">\n",
       "  <thead>\n",
       "    <tr style=\"text-align: right;\">\n",
       "      <th></th>\n",
       "      <th>label</th>\n",
       "      <th>SMS</th>\n",
       "    </tr>\n",
       "  </thead>\n",
       "  <tbody>\n",
       "    <tr>\n",
       "      <th>0</th>\n",
       "      <td>ham</td>\n",
       "      <td>Go until jurong point, crazy.. Available only ...</td>\n",
       "    </tr>\n",
       "    <tr>\n",
       "      <th>1</th>\n",
       "      <td>ham</td>\n",
       "      <td>Ok lar... Joking wif u oni...</td>\n",
       "    </tr>\n",
       "    <tr>\n",
       "      <th>2</th>\n",
       "      <td>spam</td>\n",
       "      <td>Free entry in 2 a wkly comp to win FA Cup fina...</td>\n",
       "    </tr>\n",
       "    <tr>\n",
       "      <th>3</th>\n",
       "      <td>ham</td>\n",
       "      <td>U dun say so early hor... U c already then say...</td>\n",
       "    </tr>\n",
       "    <tr>\n",
       "      <th>4</th>\n",
       "      <td>ham</td>\n",
       "      <td>Nah I don't think he goes to usf, he lives aro...</td>\n",
       "    </tr>\n",
       "    <tr>\n",
       "      <th>...</th>\n",
       "      <td>...</td>\n",
       "      <td>...</td>\n",
       "    </tr>\n",
       "    <tr>\n",
       "      <th>995</th>\n",
       "      <td>spam</td>\n",
       "      <td>Go until jurong point, crazy.. Available only</td>\n",
       "    </tr>\n",
       "    <tr>\n",
       "      <th>996</th>\n",
       "      <td>spam</td>\n",
       "      <td>You won't believe it but it's true. It's Incre...</td>\n",
       "    </tr>\n",
       "    <tr>\n",
       "      <th>997</th>\n",
       "      <td>spam</td>\n",
       "      <td>WINNER!! As a valued network customer</td>\n",
       "    </tr>\n",
       "    <tr>\n",
       "      <th>998</th>\n",
       "      <td>spam</td>\n",
       "      <td>SMS services. Your subscription is renewed</td>\n",
       "    </tr>\n",
       "    <tr>\n",
       "      <th>999</th>\n",
       "      <td>spam</td>\n",
       "      <td>Congratulations! Thanks to a good friend</td>\n",
       "    </tr>\n",
       "  </tbody>\n",
       "</table>\n",
       "<p>17533 rows × 2 columns</p>\n",
       "</div>"
      ],
      "text/plain": [
       "    label                                                SMS\n",
       "0     ham  Go until jurong point, crazy.. Available only ...\n",
       "1     ham                      Ok lar... Joking wif u oni...\n",
       "2    spam  Free entry in 2 a wkly comp to win FA Cup fina...\n",
       "3     ham  U dun say so early hor... U c already then say...\n",
       "4     ham  Nah I don't think he goes to usf, he lives aro...\n",
       "..    ...                                                ...\n",
       "995  spam      Go until jurong point, crazy.. Available only\n",
       "996  spam  You won't believe it but it's true. It's Incre...\n",
       "997  spam              WINNER!! As a valued network customer\n",
       "998  spam         SMS services. Your subscription is renewed\n",
       "999  spam           Congratulations! Thanks to a good friend\n",
       "\n",
       "[17533 rows x 2 columns]"
      ]
     },
     "execution_count": 392,
     "metadata": {},
     "output_type": "execute_result"
    }
   ],
   "source": [
    "# combine all the datasets\n",
    "df = pd.concat([df3, df4, df5], axis = 0)\n",
    "\n",
    "df"
   ]
  },
  {
   "cell_type": "code",
   "execution_count": 393,
   "metadata": {},
   "outputs": [
    {
     "data": {
      "text/plain": [
       "array(['ham', 'spam'], dtype=object)"
      ]
     },
     "execution_count": 393,
     "metadata": {},
     "output_type": "execute_result"
    }
   ],
   "source": [
    "# get all the unique values in the label column\n",
    "df['label'].unique()"
   ]
  },
  {
   "cell_type": "code",
   "execution_count": 394,
   "metadata": {},
   "outputs": [],
   "source": [
    "# for the values 'spam', 'ads', 'notifs', 'OTP', 'gov', 1, 'ham' change them to 1 or 0\n",
    "\n",
    "df['label'] = df['label'].apply(lambda x: 1 if x in ['spam', 'ads', 'notifs', 'OTP', 'gov', 1] else 0)"
   ]
  },
  {
   "cell_type": "code",
   "execution_count": 395,
   "metadata": {},
   "outputs": [
    {
     "data": {
      "text/plain": [
       "label    0\n",
       "SMS      0\n",
       "dtype: int64"
      ]
     },
     "execution_count": 395,
     "metadata": {},
     "output_type": "execute_result"
    }
   ],
   "source": [
    "# check for null values\n",
    "df.isnull().sum()"
   ]
  },
  {
   "cell_type": "code",
   "execution_count": 396,
   "metadata": {},
   "outputs": [],
   "source": [
    "# drop the null values\n",
    "df = df.dropna()"
   ]
  },
  {
   "cell_type": "code",
   "execution_count": 397,
   "metadata": {},
   "outputs": [
    {
     "name": "stdout",
     "output_type": "stream",
     "text": [
      "the number of empty strings is:  16\n"
     ]
    }
   ],
   "source": [
    "# check for empty strings\n",
    "\n",
    "blanks = []\n",
    "for index, text in df['SMS'].items():\n",
    "    \n",
    "    if text.isspace():\n",
    "        blanks.append(index)\n",
    "    \n",
    "\n",
    "print('the number of empty strings is: ', len(blanks))"
   ]
  },
  {
   "cell_type": "code",
   "execution_count": 398,
   "metadata": {},
   "outputs": [],
   "source": [
    "# drop the empty strings\n",
    "df.drop(blanks, inplace=True)"
   ]
  },
  {
   "cell_type": "code",
   "execution_count": 399,
   "metadata": {},
   "outputs": [
    {
     "data": {
      "text/plain": [
       "6730"
      ]
     },
     "execution_count": 399,
     "metadata": {},
     "output_type": "execute_result"
    }
   ],
   "source": [
    "# check if there are any duplicates\n",
    "df.duplicated().sum()"
   ]
  },
  {
   "cell_type": "code",
   "execution_count": 400,
   "metadata": {},
   "outputs": [
    {
     "data": {
      "text/plain": [
       "(10767, 2)"
      ]
     },
     "execution_count": 400,
     "metadata": {},
     "output_type": "execute_result"
    }
   ],
   "source": [
    "# delete the duplicated rows \n",
    "df = df.drop_duplicates()\n",
    "df.shape"
   ]
  },
  {
   "cell_type": "code",
   "execution_count": 401,
   "metadata": {},
   "outputs": [],
   "source": [
    "# reset the index\n",
    "df.reset_index(drop=True, inplace=True)"
   ]
  },
  {
   "cell_type": "code",
   "execution_count": 402,
   "metadata": {},
   "outputs": [
    {
     "data": {
      "text/plain": [
       "<Axes: ylabel='count'>"
      ]
     },
     "execution_count": 402,
     "metadata": {},
     "output_type": "execute_result"
    },
    {
     "data": {
      "image/png": "[encoded data removed]",
      "text/plain": [
       "<Figure size 640x480 with 1 Axes>"
      ]
     },
     "metadata": {},
     "output_type": "display_data"
    }
   ],
   "source": [
    "# number of spam and ham messages\n",
    "df['label'].value_counts().plot(kind = 'pie', labels = ['ham', 'spam'], autopct = '%1.1f%%')\n"
   ]
  },
  {
   "cell_type": "code",
   "execution_count": 403,
   "metadata": {},
   "outputs": [
    {
     "data": {
      "text/html": [
       "<div>\n",
       "<style scoped>\n",
       "    .dataframe tbody tr th:only-of-type {\n",
       "        vertical-align: middle;\n",
       "    }\n",
       "\n",
       "    .dataframe tbody tr th {\n",
       "        vertical-align: top;\n",
       "    }\n",
       "\n",
       "    .dataframe thead th {\n",
       "        text-align: right;\n",
       "    }\n",
       "</style>\n",
       "<table border=\"1\" class=\"dataframe\">\n",
       "  <thead>\n",
       "    <tr style=\"text-align: right;\">\n",
       "      <th></th>\n",
       "      <th>label</th>\n",
       "      <th>SMS</th>\n",
       "    </tr>\n",
       "  </thead>\n",
       "  <tbody>\n",
       "    <tr>\n",
       "      <th>0</th>\n",
       "      <td>0</td>\n",
       "      <td>kerr mcgee : tomcat hey joe , here ' s the res...</td>\n",
       "    </tr>\n",
       "    <tr>\n",
       "      <th>1</th>\n",
       "      <td>0</td>\n",
       "      <td>My sister cleared two round in birla soft yest...</td>\n",
       "    </tr>\n",
       "    <tr>\n",
       "      <th>2</th>\n",
       "      <td>0</td>\n",
       "      <td>Notification  Sir, this is to notify you that ...</td>\n",
       "    </tr>\n",
       "    <tr>\n",
       "      <th>3</th>\n",
       "      <td>1</td>\n",
       "      <td>cailis for cheap ! new coalos softtabs = near ...</td>\n",
       "    </tr>\n",
       "    <tr>\n",
       "      <th>5</th>\n",
       "      <td>1</td>\n",
       "      <td>vlc , 0 dln for sale , no prior pres . crip . ...</td>\n",
       "    </tr>\n",
       "    <tr>\n",
       "      <th>16</th>\n",
       "      <td>1</td>\n",
       "      <td>note ! citibank account suspend in process dea...</td>\n",
       "    </tr>\n",
       "  </tbody>\n",
       "</table>\n",
       "</div>"
      ],
      "text/plain": [
       "    label                                                SMS\n",
       "0       0  kerr mcgee : tomcat hey joe , here ' s the res...\n",
       "1       0  My sister cleared two round in birla soft yest...\n",
       "2       0  Notification  Sir, this is to notify you that ...\n",
       "3       1  cailis for cheap ! new coalos softtabs = near ...\n",
       "5       1  vlc , 0 dln for sale , no prior pres . crip . ...\n",
       "16      1  note ! citibank account suspend in process dea..."
      ]
     },
     "execution_count": 403,
     "metadata": {},
     "output_type": "execute_result"
    }
   ],
   "source": [
    "# remove 3 spam messages and 3 ham messages to use them for testing and delete them from the training set\n",
    "\n",
    "df = df.sample(frac = 1).reset_index(drop = True)\n",
    "\n",
    "\n",
    "df_test = df.groupby('label').head(3)\n",
    "\n",
    "df = df.drop(df_test.index)\n",
    "\n",
    "df_test\n"
   ]
  },
  {
   "cell_type": "code",
   "execution_count": 404,
   "metadata": {},
   "outputs": [
    {
     "data": {
      "text/plain": [
       "82"
      ]
     },
     "execution_count": 404,
     "metadata": {},
     "output_type": "execute_result"
    }
   ],
   "source": [
    "len(df_test[\"SMS\"][2])"
   ]
  },
  {
   "cell_type": "code",
   "execution_count": 405,
   "metadata": {},
   "outputs": [],
   "source": [
    "from nltk.corpus import stopwords\n",
    "from nltk.stem import WordNetLemmatizer \n",
    "import spacy\n",
    "import re"
   ]
  },
  {
   "cell_type": "code",
   "execution_count": 406,
   "metadata": {},
   "outputs": [],
   "source": [
    "#loading spacy library\n",
    "nlp=spacy.load(\"en_core_web_sm\")\n",
    "\n",
    "#creating instance\n",
    "lemma=WordNetLemmatizer()"
   ]
  },
  {
   "cell_type": "code",
   "execution_count": 407,
   "metadata": {},
   "outputs": [
    {
     "name": "stdout",
     "output_type": "stream",
     "text": [
      "326\n",
      "179\n",
      "382\n"
     ]
    }
   ],
   "source": [
    "#creating list of stopwords containing stopwords from spacy and nltk\n",
    "\n",
    "#stopwords of spacy\n",
    "list1=nlp.Defaults.stop_words\n",
    "print(len(list1))\n",
    "\n",
    "#stopwords of NLTK\n",
    "list2=stopwords.words('english')\n",
    "print(len(list2))\n",
    "\n",
    "#combining the stopword list\n",
    "Stopwords=set((set(list1)|set(list2)))\n",
    "print(len(Stopwords))"
   ]
  },
  {
   "cell_type": "code",
   "execution_count": 408,
   "metadata": {},
   "outputs": [],
   "source": [
    "#text cleaning function\n",
    "def clean_text(text):  \n",
    "    string = \"\"\n",
    "    \n",
    "    #lower casing\n",
    "    text=text.lower()\n",
    "    \n",
    "    #simplifying text\n",
    "    text=re.sub(r\"i'm\",\"i am\",text)\n",
    "    text=re.sub(r\"he's\",\"he is\",text)\n",
    "    text=re.sub(r\"she's\",\"she is\",text)\n",
    "    text=re.sub(r\"that's\",\"that is\",text)\n",
    "    text=re.sub(r\"what's\",\"what is\",text)\n",
    "    text=re.sub(r\"where's\",\"where is\",text)\n",
    "    text=re.sub(r\"\\'ll\",\" will\",text)\n",
    "    text=re.sub(r\"\\'ve\",\" have\",text)\n",
    "    text=re.sub(r\"\\'re\",\" are\",text)\n",
    "    text=re.sub(r\"\\'d\",\" would\",text)\n",
    "    text=re.sub(r\"won't\",\"will not\",text)\n",
    "    text=re.sub(r\"can't\",\"cannot\",text)\n",
    "    text=re.sub(r\"n't\",\" not\",text)\n",
    "    \n",
    "    \n",
    "    #removing any special character\n",
    "    text=re.sub(r\"[-()\\\"#!@$%^&*{}?.,:]\",\" \",text)\n",
    "    text=re.sub(r\"\\s+\",\" \",text)\n",
    "    text=re.sub('[^A-Za-z0-9]+',' ', text)\n",
    "\n",
    "    #replace numbers with 'num'\n",
    "    text=re.sub(r\"\\d\",\"num\",text)\n",
    "\n",
    "    #replace URL with 'url'\n",
    "    text=re.sub(r\"http\\S+\",\"url\",text)\n",
    "    \n",
    "    for word in text.split():\n",
    "        if word not in Stopwords:\n",
    "            string+=lemma.lemmatize(word)+\" \"\n",
    "    \n",
    "    return string"
   ]
  },
  {
   "cell_type": "code",
   "execution_count": 409,
   "metadata": {},
   "outputs": [
    {
     "name": "stderr",
     "output_type": "stream",
     "text": [
      "[nltk_data] Downloading package wordnet to\n",
      "[nltk_data]     C:\\Users\\lemon\\AppData\\Roaming\\nltk_data...\n",
      "[nltk_data]   Package wordnet is already up-to-date!\n"
     ]
    },
    {
     "data": {
      "text/plain": [
       "True"
      ]
     },
     "execution_count": 409,
     "metadata": {},
     "output_type": "execute_result"
    }
   ],
   "source": [
    "import nltk\n",
    "nltk.download('wordnet')"
   ]
  },
  {
   "cell_type": "code",
   "execution_count": 410,
   "metadata": {},
   "outputs": [],
   "source": [
    "#cleaning the data\n",
    "df[\"SMS\"]=df[\"SMS\"].apply(clean_text)"
   ]
  },
  {
   "cell_type": "code",
   "execution_count": 411,
   "metadata": {},
   "outputs": [
    {
     "data": {
      "text/plain": [
       "(10761, 2)"
      ]
     },
     "execution_count": 411,
     "metadata": {},
     "output_type": "execute_result"
    }
   ],
   "source": [
    "df.shape"
   ]
  },
  {
   "cell_type": "markdown",
   "metadata": {},
   "source": [
    "# 3. Feature-Extraction & Model building"
   ]
  },
  {
   "cell_type": "code",
   "execution_count": 412,
   "metadata": {},
   "outputs": [],
   "source": [
    "#splitting the data \n",
    "from sklearn.model_selection import train_test_split\n",
    "\n",
    "# since the data is imbalanced we will use stratify to make sure that the data is split in a way that the proportion of spam and ham messages is the same in both the training and testing set\n",
    "X_train, X_test, y_train, y_test = train_test_split(df['SMS'], df['label'], test_size = 0.2, random_state = 42, stratify = df['label'])"
   ]
  },
  {
   "cell_type": "code",
   "execution_count": 413,
   "metadata": {},
   "outputs": [
    {
     "name": "stdout",
     "output_type": "stream",
     "text": [
      "(8608,)\n",
      "(2153,)\n",
      "(8608,)\n",
      "(2153,)\n"
     ]
    }
   ],
   "source": [
    "# print the shape of the training and testing set\n",
    "print(X_train.shape)\n",
    "print(X_test.shape)\n",
    "print(y_train.shape)\n",
    "print(y_test.shape)"
   ]
  },
  {
   "cell_type": "code",
   "execution_count": 414,
   "metadata": {},
   "outputs": [
    {
     "data": {
      "text/plain": [
       "<Axes: ylabel='count'>"
      ]
     },
     "execution_count": 414,
     "metadata": {},
     "output_type": "execute_result"
    },
    {
     "data": {
      "image/png": "[encoded data removed]",
      "text/plain": [
       "<Figure size 640x480 with 1 Axes>"
      ]
     },
     "metadata": {},
     "output_type": "display_data"
    }
   ],
   "source": [
    "# destribution of ham and spam messages in the training set\n",
    "y_train.value_counts().plot(kind = 'pie', labels = ['ham', 'spam'], autopct = '%1.1f%%')\n"
   ]
  },
  {
   "cell_type": "code",
   "execution_count": 415,
   "metadata": {},
   "outputs": [
    {
     "data": {
      "text/plain": [
       "<Axes: ylabel='count'>"
      ]
     },
     "execution_count": 415,
     "metadata": {},
     "output_type": "execute_result"
    },
    {
     "data": {
      "image/png": "[encoded data removed]",
      "text/plain": [
       "<Figure size 640x480 with 1 Axes>"
      ]
     },
     "metadata": {},
     "output_type": "display_data"
    }
   ],
   "source": [
    "# destribution of ham and spam messages in the testing set\n",
    "y_test.value_counts().plot(kind = 'pie', labels = ['ham', 'spam'], autopct = '%1.1f%%')"
   ]
  },
  {
   "cell_type": "code",
   "execution_count": 416,
   "metadata": {},
   "outputs": [],
   "source": [
    "from sklearn.pipeline import Pipeline\n",
    "from sklearn.feature_extraction.text import TfidfVectorizer\n",
    "from sklearn.svm import LinearSVC"
   ]
  },
  {
   "cell_type": "code",
   "execution_count": 417,
   "metadata": {},
   "outputs": [],
   "source": [
    "# create a pipeline\n",
    "text_clf=Pipeline([(\"tfidf\",TfidfVectorizer()),(\"clf\",LinearSVC())])"
   ]
  },
  {
   "cell_type": "code",
   "execution_count": 418,
   "metadata": {},
   "outputs": [
    {
     "name": "stderr",
     "output_type": "stream",
     "text": [
      "c:\\Users\\lemon\\AppData\\Local\\Programs\\Python\\Python311\\Lib\\site-packages\\sklearn\\svm\\_classes.py:32: FutureWarning: The default value of `dual` will change from `True` to `'auto'` in 1.5. Set the value of `dual` explicitly to suppress the warning.\n",
      "  warnings.warn(\n"
     ]
    }
   ],
   "source": [
    "\n",
    "svc = text_clf.fit(X_train,y_train)"
   ]
  },
  {
   "cell_type": "code",
   "execution_count": 419,
   "metadata": {},
   "outputs": [],
   "source": [
    "#making prediction using the model\n",
    "predictions=svc.predict(X_test)"
   ]
  },
  {
   "cell_type": "markdown",
   "metadata": {},
   "source": [
    "# Evaluating the model"
   ]
  },
  {
   "cell_type": "code",
   "execution_count": 420,
   "metadata": {},
   "outputs": [
    {
     "name": "stdout",
     "output_type": "stream",
     "text": [
      "the classification report :\n",
      "              precision    recall  f1-score   support\n",
      "\n",
      "           0       0.97      0.99      0.98      1651\n",
      "           1       0.96      0.91      0.93       502\n",
      "\n",
      "    accuracy                           0.97      2153\n",
      "   macro avg       0.96      0.95      0.96      2153\n",
      "weighted avg       0.97      0.97      0.97      2153\n",
      "\n"
     ]
    }
   ],
   "source": [
    "# the classification report\n",
    "from sklearn import metrics\n",
    "print(\"the classification report :\")\n",
    "print(metrics.classification_report(y_test,predictions))"
   ]
  },
  {
   "cell_type": "code",
   "execution_count": 421,
   "metadata": {},
   "outputs": [
    {
     "name": "stdout",
     "output_type": "stream",
     "text": [
      "linear svc accuracy :  0.9688806316767301\n"
     ]
    }
   ],
   "source": [
    "# the models accuracy\n",
    "svc_accuracy = metrics.accuracy_score(y_test,predictions)\n",
    "print(\"linear svc accuracy : \",svc_accuracy)"
   ]
  },
  {
   "cell_type": "code",
   "execution_count": 422,
   "metadata": {},
   "outputs": [
    {
     "name": "stdout",
     "output_type": "stream",
     "text": [
      "[[1630   21]\n",
      " [  46  456]]\n"
     ]
    }
   ],
   "source": [
    "#confusion matrix\n",
    "print(metrics.confusion_matrix(y_test,predictions))"
   ]
  },
  {
   "cell_type": "code",
   "execution_count": 423,
   "metadata": {},
   "outputs": [
    {
     "data": {
      "text/plain": [
       "[Text(0, 0.5, 'ham'), Text(0, 1.5, 'spam')]"
      ]
     },
     "execution_count": 423,
     "metadata": {},
     "output_type": "execute_result"
    },
    {
     "data": {
      "image/png": "[encoded data removed]",
      "text/plain": [
       "<Figure size 640x480 with 2 Axes>"
      ]
     },
     "metadata": {},
     "output_type": "display_data"
    }
   ],
   "source": [
    "# plotting the confusion matrix\n",
    "from sklearn.metrics import confusion_matrix\n",
    "import seaborn as sns\n",
    "import matplotlib.pyplot as plt\n",
    "\n",
    "cm = confusion_matrix(y_test, predictions)\n",
    "ax = plt.subplot()\n",
    "sns.heatmap(cm, annot = True, ax = ax)\n",
    "\n",
    "ax.set_xlabel('Predicted')\n",
    "ax.set_ylabel('Actual')\n",
    "ax.set_title('Confusion Matrix')\n",
    "ax.xaxis.set_ticklabels(['ham', 'spam'])\n",
    "ax.yaxis.set_ticklabels(['ham', 'spam'])\n",
    "\n"
   ]
  },
  {
   "cell_type": "code",
   "execution_count": 424,
   "metadata": {},
   "outputs": [
    {
     "data": {
      "text/plain": [
       "['models/linear_svc_model.pkl']"
      ]
     },
     "execution_count": 424,
     "metadata": {},
     "output_type": "execute_result"
    }
   ],
   "source": [
    "# save the model\n",
    "import joblib\n",
    "joblib.dump(svc, 'models/linear_svc_model.pkl')"
   ]
  },
  {
   "cell_type": "markdown",
   "metadata": {},
   "source": [
    "# trying other models"
   ]
  },
  {
   "cell_type": "code",
   "execution_count": 425,
   "metadata": {},
   "outputs": [],
   "source": [
    "# random forest model\n",
    "from sklearn.ensemble import RandomForestClassifier\n",
    "# create a pipeline\n",
    "text_clf=Pipeline([(\"tfidf\",TfidfVectorizer()),(\"clf\",RandomForestClassifier())])\n",
    "rf = text_clf.fit(X_train,y_train)"
   ]
  },
  {
   "cell_type": "code",
   "execution_count": 426,
   "metadata": {},
   "outputs": [
    {
     "name": "stdout",
     "output_type": "stream",
     "text": [
      "the classification report: \n",
      "              precision    recall  f1-score   support\n",
      "\n",
      "           0       0.95      0.99      0.97      1651\n",
      "           1       0.97      0.83      0.90       502\n",
      "\n",
      "    accuracy                           0.96      2153\n",
      "   macro avg       0.96      0.91      0.94      2153\n",
      "weighted avg       0.96      0.96      0.95      2153\n",
      "\n",
      "-----------------------------------------\n",
      "random forest accuracy:  0.9558755225267069\n",
      "-----------------------------------------\n"
     ]
    },
    {
     "data": {
      "text/plain": [
       "[Text(0, 0.5, 'ham'), Text(0, 1.5, 'spam')]"
      ]
     },
     "execution_count": 426,
     "metadata": {},
     "output_type": "execute_result"
    },
    {
     "data": {
      "image/png": "[encoded data removed]",
      "text/plain": [
       "<Figure size 640x480 with 2 Axes>"
      ]
     },
     "metadata": {},
     "output_type": "display_data"
    }
   ],
   "source": [
    "# making prediction using the model\n",
    "predictions=rf.predict(X_test)\n",
    "\n",
    "# the classification report\n",
    "print(\"the classification report: \")\n",
    "print(metrics.classification_report(y_test,predictions))\n",
    "print(\"-----------------------------------------\")\n",
    "\n",
    "# the models accuracy\n",
    "rf_accuracy = metrics.accuracy_score(y_test,predictions)\n",
    "print(\"random forest accuracy: \", rf_accuracy )\n",
    "print(\"-----------------------------------------\")\n",
    "\n",
    "# plotting the confusion matrix\n",
    "cm = confusion_matrix(y_test, predictions)\n",
    "ax = plt.subplot()\n",
    "sns.heatmap(cm, annot = True, ax = ax)\n",
    "\n",
    "ax.set_xlabel('Predicted')\n",
    "ax.set_ylabel('Actual')\n",
    "ax.set_title('Confusion Matrix')\n",
    "ax.xaxis.set_ticklabels(['ham', 'spam'])\n",
    "ax.yaxis.set_ticklabels(['ham', 'spam'])\n"
   ]
  },
  {
   "cell_type": "code",
   "execution_count": 427,
   "metadata": {},
   "outputs": [
    {
     "data": {
      "text/plain": [
       "['models/random_forest_model.pkl']"
      ]
     },
     "execution_count": 427,
     "metadata": {},
     "output_type": "execute_result"
    }
   ],
   "source": [
    "# save the model\n",
    "joblib.dump(rf, 'models/random_forest_model.pkl')"
   ]
  },
  {
   "cell_type": "code",
   "execution_count": 428,
   "metadata": {},
   "outputs": [],
   "source": [
    "# naive bayes model\n",
    "from sklearn.naive_bayes import MultinomialNB\n",
    "# create a pipeline\n",
    "text_clf=Pipeline([(\"tfidf\",TfidfVectorizer()),(\"clf\",MultinomialNB())])\n",
    "nb = text_clf.fit(X_train,y_train)"
   ]
  },
  {
   "cell_type": "code",
   "execution_count": 429,
   "metadata": {},
   "outputs": [
    {
     "name": "stdout",
     "output_type": "stream",
     "text": [
      "the classification report: \n",
      "              precision    recall  f1-score   support\n",
      "\n",
      "           0       0.90      1.00      0.95      1651\n",
      "           1       0.99      0.63      0.77       502\n",
      "\n",
      "    accuracy                           0.91      2153\n",
      "   macro avg       0.95      0.82      0.86      2153\n",
      "weighted avg       0.92      0.91      0.91      2153\n",
      "\n",
      "-----------------------------------------\n",
      "naive bayes accuracy:  0.913144449605202\n",
      "-----------------------------------------\n"
     ]
    },
    {
     "data": {
      "text/plain": [
       "[Text(0, 0.5, 'ham'), Text(0, 1.5, 'spam')]"
      ]
     },
     "execution_count": 429,
     "metadata": {},
     "output_type": "execute_result"
    },
    {
     "data": {
      "image/png": "[encoded data removed]",
      "text/plain": [
       "<Figure size 640x480 with 2 Axes>"
      ]
     },
     "metadata": {},
     "output_type": "display_data"
    }
   ],
   "source": [
    "# making prediction using the model\n",
    "predictions=nb.predict(X_test)\n",
    "\n",
    "# the classification report\n",
    "print(\"the classification report: \")\n",
    "print(metrics.classification_report(y_test,predictions))\n",
    "print(\"-----------------------------------------\")\n",
    "\n",
    "# the models accuracy\n",
    "nb_accuracy = metrics.accuracy_score(y_test,predictions)\n",
    "print(\"naive bayes accuracy: \", nb_accuracy )\n",
    "print(\"-----------------------------------------\")\n",
    "\n",
    "# plotting the confusion matrix\n",
    "cm = confusion_matrix(y_test, predictions)\n",
    "ax = plt.subplot()\n",
    "sns.heatmap(cm, annot = True, ax = ax)\n",
    "\n",
    "ax.set_xlabel('Predicted')\n",
    "ax.set_ylabel('Actual')\n",
    "ax.set_title('Confusion Matrix')\n",
    "ax.xaxis.set_ticklabels(['ham', 'spam'])\n",
    "ax.yaxis.set_ticklabels(['ham', 'spam'])\n"
   ]
  },
  {
   "cell_type": "code",
   "execution_count": 430,
   "metadata": {},
   "outputs": [
    {
     "data": {
      "text/plain": [
       "['models/naive_bayes_model.pkl']"
      ]
     },
     "execution_count": 430,
     "metadata": {},
     "output_type": "execute_result"
    }
   ],
   "source": [
    "# save the model\n",
    "joblib.dump(nb, 'models/naive_bayes_model.pkl')"
   ]
  },
  {
   "cell_type": "code",
   "execution_count": 431,
   "metadata": {},
   "outputs": [],
   "source": [
    "# logistic regression model\n",
    "from sklearn.linear_model import LogisticRegression\n",
    "# create a pipeline\n",
    "text_clf=Pipeline([(\"tfidf\",TfidfVectorizer()),(\"clf\",LogisticRegression())])\n",
    "lr = text_clf.fit(X_train,y_train)"
   ]
  },
  {
   "cell_type": "code",
   "execution_count": 432,
   "metadata": {},
   "outputs": [
    {
     "name": "stdout",
     "output_type": "stream",
     "text": [
      "the classification report: \n",
      "              precision    recall  f1-score   support\n",
      "\n",
      "           0       0.94      0.99      0.96      1651\n",
      "           1       0.97      0.78      0.86       502\n",
      "\n",
      "    accuracy                           0.94      2153\n",
      "   macro avg       0.95      0.88      0.91      2153\n",
      "weighted avg       0.94      0.94      0.94      2153\n",
      "\n",
      "-----------------------------------------\n",
      "logistic regression accuracy:  0.9414770088248955\n",
      "-----------------------------------------\n"
     ]
    },
    {
     "data": {
      "text/plain": [
       "[Text(0, 0.5, 'ham'), Text(0, 1.5, 'spam')]"
      ]
     },
     "execution_count": 432,
     "metadata": {},
     "output_type": "execute_result"
    },
    {
     "data": {
      "image/png": "[encoded data removed]",
      "text/plain": [
       "<Figure size 640x480 with 2 Axes>"
      ]
     },
     "metadata": {},
     "output_type": "display_data"
    }
   ],
   "source": [
    "# making prediction using the model\n",
    "predictions=lr.predict(X_test)\n",
    "\n",
    "# the classification report\n",
    "print(\"the classification report: \")\n",
    "print(metrics.classification_report(y_test,predictions))\n",
    "print(\"-----------------------------------------\")\n",
    "\n",
    "# the models accuracy\n",
    "lr_accuracy = metrics.accuracy_score(y_test,predictions)\n",
    "print(\"logistic regression accuracy: \", lr_accuracy )\n",
    "print(\"-----------------------------------------\")\n",
    "\n",
    "# plotting the confusion matrix\n",
    "cm = confusion_matrix(y_test, predictions)\n",
    "ax = plt.subplot()\n",
    "sns.heatmap(cm, annot = True, ax = ax)\n",
    "\n",
    "ax.set_xlabel('Predicted')\n",
    "ax.set_ylabel('Actual')\n",
    "ax.set_title('Confusion Matrix')\n",
    "ax.xaxis.set_ticklabels(['ham', 'spam'])\n",
    "ax.yaxis.set_ticklabels(['ham', 'spam'])\n"
   ]
  },
  {
   "cell_type": "code",
   "execution_count": 433,
   "metadata": {},
   "outputs": [
    {
     "data": {
      "text/plain": [
       "['models/logistic_regression_model.pkl']"
      ]
     },
     "execution_count": 433,
     "metadata": {},
     "output_type": "execute_result"
    }
   ],
   "source": [
    "# save the model\n",
    "joblib.dump(lr, 'models/logistic_regression_model.pkl')"
   ]
  },
  {
   "cell_type": "markdown",
   "metadata": {},
   "source": [
    "# Testing the model"
   ]
  },
  {
   "cell_type": "code",
   "execution_count": 434,
   "metadata": {},
   "outputs": [
    {
     "name": "stdout",
     "output_type": "stream",
     "text": [
      "the best model is the linear svc model\n"
     ]
    }
   ],
   "source": [
    "# choose the best model\n",
    "models = [svc_accuracy, rf_accuracy, nb_accuracy, lr_accuracy]\n",
    "\n",
    "# the best model\n",
    "best_model = max(models)\n",
    "\n",
    "if best_model == svc_accuracy:\n",
    "    print(\"the best model is the linear svc model\")\n",
    "    joblib.dump(svc, 'models/linear_svc_model.pkl')\n",
    "elif best_model == rf_accuracy:\n",
    "    print(\"the best model is the random forest model\")\n",
    "    joblib.dump(rf, 'models/random_forest_model.pkl')\n",
    "elif best_model == nb_accuracy:\n",
    "    print(\"the best model is the naive bayes model\")\n",
    "    joblib.dump(nb, 'models/naive_bayes_model.pkl')\n",
    "else:\n",
    "    print(\"the best model is the logistic regression model\")\n",
    "    joblib.dump(lr, 'models/logistic_regression_model.pkl')"
   ]
  },
  {
   "cell_type": "code",
   "execution_count": 435,
   "metadata": {},
   "outputs": [],
   "source": [
    "# test the model\n",
    "\n",
    "def predict_spam(sms):\n",
    "    sms = clean_text(sms)\n",
    "    return model.predict([sms])[0]"
   ]
  },
  {
   "cell_type": "code",
   "execution_count": 436,
   "metadata": {},
   "outputs": [
    {
     "name": "stdout",
     "output_type": "stream",
     "text": [
      "This is a spam message\n"
     ]
    }
   ],
   "source": [
    "\n",
    "spam = \"Congratulations! you have won a free trip to the Bahamas. Text 'WIN' to 12345 to claim your prize\"\n",
    "ham = \"hey there it's been a while !\"\n",
    "\n",
    "sms = spam\n",
    "\n",
    "if model.predict([sms])[0] == 1:\n",
    "    print(\"This is a spam message\")\n",
    "else:\n",
    "    print(\"This is not a spam message\")"
   ]
  },
  {
   "cell_type": "code",
   "execution_count": 437,
   "metadata": {},
   "outputs": [
    {
     "name": "stdout",
     "output_type": "stream",
     "text": [
      "SMS:  kerr mcgee : tomcat hey joe , here ' s the response i got with regards to tomcat . i ' ve place another call into david and let him know that the information we received included most points except for tomcat . i ' ll keep you informed . what i know is that the gas is sourced at mi 587 and moved on km ' s firm contract . for as long as ces remembers , they sell the gas to entex . entex chooses the pipe off which they take - - usually midcon - - also , hpl channel , or tejas . km is invoiced directly . volume is approx . 2395 . the deal with entex is written up monthly . km pays on a basket of indices . entex pays on the highest index . ami - - - - - - - - - - - - - - - - - - - - - - forwarded by ami chokshi / corp / enron on 12 / 21 / 99 09 : 32 am - - - - - - - - - - - - - - - - - - - - - - - - - - - dscottl @ . com on 12 / 21 / 99 09 : 18 : 12 am to : ami chokshi / corp / enron @ enron cc : subject : re : the response i got from our risk desk was that your structuring group has already been provided all of this information . . . so you probably need to check with them . my guess would be tetco stx is where the tomcat gas belongs . david\n",
      "Actual:  0\n",
      "Prediction:  0\n",
      "\n",
      "\n",
      "SMS:  My sister cleared two round in birla soft yesterday.\n",
      "Actual:  0\n",
      "Prediction:  0\n",
      "\n",
      "\n",
      "SMS:  Notification  Sir, this is to notify you that our shipment has arrived the office \n",
      "Actual:  0\n",
      "Prediction:  0\n",
      "\n",
      "\n",
      "SMS:  cailis for cheap ! new coalos softtabs = near - instant rock hard erectlons ! ! simply disolve half a plll under your tongue 10 min before action , for results that last all weekend ! cesar laddiesurf niki kleenex happyday zhongguoangels basket sailor frogs valentin mailer rux roman jared mikael saskiagenius playboy tacobell redrum angus tattoo chiquita surftoronto million gretchen carlos carloslooney sylvie midori scubal fountain cutie \n",
      "Actual:  1\n",
      "Prediction:  1\n",
      "\n",
      "\n",
      "SMS:  vlc , 0 dln for sale , no prior pres . crip . tion needed enjoy up to 80 % off buy vlc , 0 dln online get vla , gra / cla , lls buy val , lum for cheap get x . a . x . a . x online from our online pha , rmacy . many others also available ! no p . r . e , s . c . r , i . p . t . i . o . n required discreet / fast shipping . plus * no shipping charge * and always 100 % money back guarantee click here for more info \n",
      "Actual:  1\n",
      "Prediction:  1\n",
      "\n",
      "\n",
      "SMS:  note ! citibank account suspend in process dear customer : recently there have been a large number of cyber attacks pointing our database servers . in order to safeguard your account , we require you to sign on immediately . this personal check is requested of you as a precautionary measure and to ensure yourselves that everything is normal with your balance and personal information . this process is mandatory , and if you did not sign on within the nearest time your account may be subject to temporary suspension . please make sure you have your citibank ( r ) debit card number and your user id and password at hand . please use our secure counter server to indicate that you have signed on , please click the link bellow : http : / / 218 . 12 . 29 . 35 / ver / ! ! note that we have no particular indications that your details have been compromised in any way . thank you for your prompt attention to this matter and thank you for using citibank ( r ) regards , citibank ( r ) card department ( c ) 2004 citibank . citibank , n . a . , citibank , f . s . b . , citibank ( west ) , fsb . member fdic . citibank and arc design is a registered service mark of citicorp . \n",
      "Actual:  1\n",
      "Prediction:  1\n",
      "\n",
      "\n"
     ]
    }
   ],
   "source": [
    "# test it using the df_test dataframe\n",
    "df_test['prediction'] = df_test['SMS'].apply(predict_spam)\n",
    "\n",
    "for index, row in df_test.iterrows():\n",
    "    print(\"SMS: \", row['SMS'])\n",
    "    print(\"Actual: \", row['label'])\n",
    "    print(\"Prediction: \", row['prediction'])\n",
    "    print(\"\\n\")"
   ]
  },
  {
   "cell_type": "markdown",
   "metadata": {},
   "source": [
    "# Streamlit Interface"
   ]
  },
  {
   "cell_type": "code",
   "execution_count": 452,
   "metadata": {},
   "outputs": [
    {
     "name": "stdout",
     "output_type": "stream",
     "text": [
      "Overwriting App.py\n"
     ]
    }
   ],
   "source": [
    "%%writefile App.py\n",
    "\n",
    "import streamlit as st\n",
    "import joblib\n",
    "from sklearn.feature_extraction.text import TfidfVectorizer\n",
    "import numpy as np\n",
    "from nltk.corpus import stopwords\n",
    "from nltk.stem import WordNetLemmatizer \n",
    "import spacy\n",
    "import re\n",
    "\n",
    "nlp=spacy.load(\"en_core_web_sm\")\n",
    "\n",
    "def init_page() -> None:\n",
    "    st.set_page_config(page_title=\"AI Project Dashboard\", layout=\"wide\")\n",
    "\n",
    "def add_pages() -> None:\n",
    "    pages = {\n",
    "        \"Home\": home_page,\n",
    "        \"SMS Spam Detector\": sms_spam_page,\n",
    "        \"Data preprocessing\": data_preprocessing_page,\n",
    "        \"Model Training\": model_training_page,\n",
    "        \"Model Testing\": model_testing_page\n",
    "    }\n",
    "\n",
    "    st.sidebar.title(\"Navigation\")\n",
    "    page = st.sidebar.selectbox(\"Go to\", list(pages.keys()))\n",
    "    \n",
    "    pages[page]()\n",
    "\n",
    "def home_page() -> None:\n",
    "    st.title(\"Welcome to the AI Projects Dashboard\")\n",
    "    st.write(\"This dashboard contains multiple AI projects. You can navigate through the different pages using the buttons below.\")\n",
    "    st.write(\"### Available Pages:\")\n",
    "    st.write(\"- **Home**: Overview of the dashboard\")\n",
    "    st.write(\"- **SMS Spam Detector**: Detect if an SMS is spam or not using different models\")\n",
    "    st.write(\"- **Data preprocessing**: Understand the data cleaning process\")\n",
    "    st.write(\"- **Model Training**: Learn about the model training process\")\n",
    "    st.write(\"- **Model Testing**: See how the models were tested and their performance metrics\")\n",
    "\n",
    "\n",
    "def sms_spam_page() -> None:\n",
    "    st.title(\"SMS Spam Detector\")\n",
    "    st.write(\"Enter the SMS text below to check if it's spam or not:\")\n",
    "    \n",
    "    input_text = st.text_area(\"SMS Text\")\n",
    "    model_option = st.selectbox(\"Choose a model:\", [\"Logistic Regression\", \"Naive Bayes\", \"Random Forest\" , \"Linear SVC\"])\n",
    "\n",
    "    if st.button(\"Check SMS\"):\n",
    "        if input_text:\n",
    "            # Load the selected model\n",
    "            model_path = f'models/{model_option.lower().replace(\" \", \"_\")}_model.pkl'\n",
    "            model = joblib.load(model_path)\n",
    "            tfidf_vectorizer = TfidfVectorizer()\n",
    "            processed_text = preprocess_text(input_text)\n",
    "            X = processed_text\n",
    "\n",
    "            prediction = model.predict(X)\n",
    "\n",
    "            if prediction == 1:\n",
    "                st.error(\"The SMS is likely Spam.\")\n",
    "            else:\n",
    "                st.success(\"The SMS is likely Not Spam.\")\n",
    "        else:\n",
    "            st.warning(\"Please enter some text to check.\")\n",
    "\n",
    "def data_preprocessing_page() -> None:\n",
    "    st.title(\"Data Preprocessing\")\n",
    "    st.write(\"This page describes the data cleaning process used in the project.\")\n",
    "    st.write(\"### Steps Involved:\")\n",
    "    st.write(\"1. **Handling Missing Values**: Techniques to manage or impute missing data.\")\n",
    "    st.write(\"2. **Text Preprocessing**: Steps to clean and preprocess text data, such as removing punctuation, converting to lowercase, and tokenization.\")\n",
    "    st.write(\"3. **Feature Selection**: Methods used to select the most relevant features for model training.\")\n",
    "\n",
    "def model_training_page() -> None:\n",
    "    st.title(\"Model Training\")\n",
    "    st.write(\"This page describes the model training process.\")\n",
    "    st.write(\"### Steps Involved:\")\n",
    "    st.write(\"1. **Data Splitting**: Splitting the data into training and validation sets.\")\n",
    "    st.write(\"2. **Model Selection**: Choosing different models to train.\")\n",
    "    st.write(\"3. **Training Process**: The process of training the models using the training data.\")\n",
    "    st.write(\"### Training Metrics:\")\n",
    "    st.write(\"Include metrics like accuracy, precision, recall, and F1-score for each model.\")\n",
    "\n",
    "def model_testing_page() -> None:\n",
    "    st.title(\"Model Testing\")\n",
    "    st.write(\"This page describes the model testing process.\")\n",
    "    st.write(\"### Steps Involved:\")\n",
    "    st.write(\"1. **Test Data Preparation**: Preparing the test data for evaluation.\")\n",
    "    st.write(\"2. **Model Evaluation**: Evaluating the trained models using the test data.\")\n",
    "    st.write(\"### Testing Metrics:\")\n",
    "    st.write(\"Include metrics like accuracy, precision, recall, and F1-score, along with any relevant graphs or confusion matrices.\")\n",
    "\n",
    "def load_models():\n",
    "    logistic_model = joblib.load('models/logistic_model.pkl')\n",
    "    naive_bayes_model = joblib.load('models/naive_bayes_model.pkl')\n",
    "    random_forest_model = joblib.load('models/random_forest_model.pkl')\n",
    "    tfidf_vectorizer = TfidfVectorizer()\n",
    "    return logistic_model, naive_bayes_model, random_forest_model, tfidf_vectorizer\n",
    "\n",
    "def preprocess_text(text , lemma=WordNetLemmatizer() , Stopwords=set((set(nlp.Defaults.stop_words)|set(stopwords.words('english'))))):\n",
    "    \n",
    "    string = \"\"\n",
    "    \n",
    "    #lower casing\n",
    "    text=text.lower()\n",
    "    \n",
    "    #simplifying text\n",
    "    text=re.sub(r\"i'm\",\"i am\",text)\n",
    "    text=re.sub(r\"he's\",\"he is\",text)\n",
    "    text=re.sub(r\"she's\",\"she is\",text)\n",
    "    text=re.sub(r\"that's\",\"that is\",text)\n",
    "    text=re.sub(r\"what's\",\"what is\",text)\n",
    "    text=re.sub(r\"where's\",\"where is\",text)\n",
    "    text=re.sub(r\"\\'ll\",\" will\",text)\n",
    "    text=re.sub(r\"\\'ve\",\" have\",text)\n",
    "    text=re.sub(r\"\\'re\",\" are\",text)\n",
    "    text=re.sub(r\"\\'d\",\" would\",text)\n",
    "    text=re.sub(r\"won't\",\"will not\",text)\n",
    "    text=re.sub(r\"can't\",\"cannot\",text)\n",
    "    text=re.sub(r\"n't\",\" not\",text)\n",
    "    \n",
    "    \n",
    "    #removing any special character\n",
    "    text=re.sub(r\"[-()\\\"#!@$%^&*{}?.,:]\",\" \",text)\n",
    "    text=re.sub(r\"\\s+\",\" \",text)\n",
    "    text=re.sub('[^A-Za-z0-9]+',' ', text)\n",
    "\n",
    "    #replace numbers with 'num'\n",
    "    text=re.sub(r\"\\d\",\"num\",text)\n",
    "\n",
    "    #replace URL with 'url'\n",
    "    text=re.sub(r\"http\\S+\",\"url\",text)\n",
    "    \n",
    "    for word in text.split():\n",
    "        if word not in Stopwords:\n",
    "            string+=lemma.lemmatize(word)+\" \"\n",
    "    \n",
    "    return string\n",
    "\n",
    "def main() -> None:\n",
    "    init_page()\n",
    "    add_pages()\n",
    "\n",
    "if __name__ == \"__main__\":\n",
    "    main()\n"
   ]
  },
  {
   "cell_type": "code",
   "execution_count": 453,
   "metadata": {},
   "outputs": [
    {
     "name": "stdout",
     "output_type": "stream",
     "text": [
      "^C\n"
     ]
    }
   ],
   "source": [
    "# run the app\n",
    "!streamlit run App.py"
   ]
  },
  {
   "cell_type": "code",
   "execution_count": null,
   "metadata": {},
   "outputs": [],
   "source": []
  }
 ],
 "metadata": {
  "kernelspec": {
   "display_name": "Python 3",
   "language": "python",
   "name": "python3"
  },
  "language_info": {
   "codemirror_mode": {
    "name": "ipython",
    "version": 3
   },
   "file_extension": ".py",
   "mimetype": "text/x-python",
   "name": "python",
   "nbconvert_exporter": "python",
   "pygments_lexer": "ipython3",
   "version": "3.11.6"
  }
 },
 "nbformat": 4,
 "nbformat_minor": 2
}
